{
 "cells": [
  {
   "cell_type": "code",
   "execution_count": 1,
   "metadata": {},
   "outputs": [
    {
     "data": {
      "text/html": [
       "\n",
       "        <div>\n",
       "            <p><b>SparkContext</b></p>\n",
       "\n",
       "            <p><a href=\"http://10.1.119.77:4040\">Spark UI</a></p>\n",
       "\n",
       "            <dl>\n",
       "              <dt>Version</dt>\n",
       "                <dd><code>v2.2.1</code></dd>\n",
       "              <dt>Master</dt>\n",
       "                <dd><code>local[*]</code></dd>\n",
       "              <dt>AppName</dt>\n",
       "                <dd><code>PySparkShell</code></dd>\n",
       "            </dl>\n",
       "        </div>\n",
       "        "
      ],
      "text/plain": [
       "<SparkContext master=local[*] appName=PySparkShell>"
      ]
     },
     "execution_count": 1,
     "metadata": {},
     "output_type": "execute_result"
    }
   ],
   "source": [
    "sc"
   ]
  },
  {
   "cell_type": "code",
   "execution_count": 8,
   "metadata": {},
   "outputs": [],
   "source": [
    "from pyspark.sql import SparkSession\n",
    "spark = SparkSession.builder.appName(\"london_crime\").getOrCreate()"
   ]
  },
  {
   "cell_type": "code",
   "execution_count": 9,
   "metadata": {},
   "outputs": [
    {
     "data": {
      "text/html": [
       "\n",
       "            <div>\n",
       "                <p><b>SparkSession - hive</b></p>\n",
       "                \n",
       "        <div>\n",
       "            <p><b>SparkContext</b></p>\n",
       "\n",
       "            <p><a href=\"http://10.1.119.77:4040\">Spark UI</a></p>\n",
       "\n",
       "            <dl>\n",
       "              <dt>Version</dt>\n",
       "                <dd><code>v2.2.1</code></dd>\n",
       "              <dt>Master</dt>\n",
       "                <dd><code>local[*]</code></dd>\n",
       "              <dt>AppName</dt>\n",
       "                <dd><code>PySparkShell</code></dd>\n",
       "            </dl>\n",
       "        </div>\n",
       "        \n",
       "            </div>\n",
       "        "
      ],
      "text/plain": [
       "<pyspark.sql.session.SparkSession at 0x111f5a9b0>"
      ]
     },
     "execution_count": 9,
     "metadata": {},
     "output_type": "execute_result"
    }
   ],
   "source": [
    "spark"
   ]
  },
  {
   "cell_type": "code",
   "execution_count": 93,
   "metadata": {},
   "outputs": [],
   "source": [
    "df = spark.read.format(\"csv\").option(\"header\", True).option('inferSchema',True).load(\"londom_crime.csv\")"
   ]
  },
  {
   "cell_type": "code",
   "execution_count": 95,
   "metadata": {},
   "outputs": [
    {
     "name": "stdout",
     "output_type": "stream",
     "text": [
      "root\n",
      " |-- lsoa_code: string (nullable = true)\n",
      " |-- borough: string (nullable = true)\n",
      " |-- major_category: string (nullable = true)\n",
      " |-- minor_category: string (nullable = true)\n",
      " |-- value: integer (nullable = true)\n",
      " |-- year: integer (nullable = true)\n",
      " |-- month: integer (nullable = true)\n",
      "\n"
     ]
    },
    {
     "data": {
      "text/plain": [
       "[Row(lsoa_code='E01001116', borough='Croydon', major_category='Burglary', minor_category='Burglary in Other Buildings', value=0, year=2016, month=11),\n",
       " Row(lsoa_code='E01001646', borough='Greenwich', major_category='Violence Against the Person', minor_category='Other violence', value=0, year=2016, month=11),\n",
       " Row(lsoa_code='E01000677', borough='Bromley', major_category='Violence Against the Person', minor_category='Other violence', value=0, year=2015, month=5),\n",
       " Row(lsoa_code='E01003774', borough='Redbridge', major_category='Burglary', minor_category='Burglary in Other Buildings', value=0, year=2016, month=3),\n",
       " Row(lsoa_code='E01004563', borough='Wandsworth', major_category='Robbery', minor_category='Personal Property', value=0, year=2008, month=6),\n",
       " Row(lsoa_code='E01001320', borough='Ealing', major_category='Theft and Handling', minor_category='Other Theft', value=0, year=2012, month=5),\n",
       " Row(lsoa_code='E01001342', borough='Ealing', major_category='Violence Against the Person', minor_category='Offensive Weapon', value=0, year=2010, month=7),\n",
       " Row(lsoa_code='E01002633', borough='Hounslow', major_category='Robbery', minor_category='Personal Property', value=0, year=2013, month=4),\n",
       " Row(lsoa_code='E01003496', borough='Newham', major_category='Criminal Damage', minor_category='Criminal Damage To Other Building', value=0, year=2013, month=9),\n",
       " Row(lsoa_code='E01004177', borough='Sutton', major_category='Theft and Handling', minor_category='Theft/Taking of Pedal Cycle', value=1, year=2016, month=8)]"
      ]
     },
     "execution_count": 95,
     "metadata": {},
     "output_type": "execute_result"
    }
   ],
   "source": [
    "df.printSchema()\n",
    "df.take(10)"
   ]
  },
  {
   "cell_type": "code",
   "execution_count": 96,
   "metadata": {},
   "outputs": [
    {
     "data": {
      "text/plain": [
       "13490604"
      ]
     },
     "execution_count": 96,
     "metadata": {},
     "output_type": "execute_result"
    }
   ],
   "source": [
    "df.count()"
   ]
  },
  {
   "cell_type": "code",
   "execution_count": 97,
   "metadata": {},
   "outputs": [
    {
     "data": {
      "text/plain": [
       "DataFrame[lsoa_code: string, borough: string, major_category: string, minor_category: string, value: int, year: int, month: int]"
      ]
     },
     "execution_count": 97,
     "metadata": {},
     "output_type": "execute_result"
    }
   ],
   "source": [
    "df.drop('NA')"
   ]
  },
  {
   "cell_type": "code",
   "execution_count": 98,
   "metadata": {},
   "outputs": [
    {
     "data": {
      "text/plain": [
       "13490604"
      ]
     },
     "execution_count": 98,
     "metadata": {},
     "output_type": "execute_result"
    }
   ],
   "source": [
    "df_new.count()\n"
   ]
  },
  {
   "cell_type": "code",
   "execution_count": 99,
   "metadata": {},
   "outputs": [],
   "source": [
    "df = df_new.drop(\"lsoa_code\")"
   ]
  },
  {
   "cell_type": "code",
   "execution_count": 100,
   "metadata": {},
   "outputs": [
    {
     "data": {
      "text/plain": [
       "[Row(borough='Croydon', major_category='Burglary', minor_category='Burglary in Other Buildings', value='0', year='2016', month='11'),\n",
       " Row(borough='Greenwich', major_category='Violence Against the Person', minor_category='Other violence', value='0', year='2016', month='11'),\n",
       " Row(borough='Bromley', major_category='Violence Against the Person', minor_category='Other violence', value='0', year='2015', month='5'),\n",
       " Row(borough='Redbridge', major_category='Burglary', minor_category='Burglary in Other Buildings', value='0', year='2016', month='3'),\n",
       " Row(borough='Wandsworth', major_category='Robbery', minor_category='Personal Property', value='0', year='2008', month='6'),\n",
       " Row(borough='Ealing', major_category='Theft and Handling', minor_category='Other Theft', value='0', year='2012', month='5'),\n",
       " Row(borough='Ealing', major_category='Violence Against the Person', minor_category='Offensive Weapon', value='0', year='2010', month='7'),\n",
       " Row(borough='Hounslow', major_category='Robbery', minor_category='Personal Property', value='0', year='2013', month='4'),\n",
       " Row(borough='Newham', major_category='Criminal Damage', minor_category='Criminal Damage To Other Building', value='0', year='2013', month='9'),\n",
       " Row(borough='Sutton', major_category='Theft and Handling', minor_category='Theft/Taking of Pedal Cycle', value='1', year='2016', month='8')]"
      ]
     },
     "execution_count": 100,
     "metadata": {},
     "output_type": "execute_result"
    }
   ],
   "source": [
    "df.take(10)"
   ]
  },
  {
   "cell_type": "code",
   "execution_count": 101,
   "metadata": {},
   "outputs": [
    {
     "name": "stdout",
     "output_type": "stream",
     "text": [
      "+--------------------+\n",
      "|             borough|\n",
      "+--------------------+\n",
      "|             Croydon|\n",
      "|          Wandsworth|\n",
      "|              Bexley|\n",
      "|             Lambeth|\n",
      "|Barking and Dagenham|\n",
      "|              Camden|\n",
      "|           Greenwich|\n",
      "|              Newham|\n",
      "|       Tower Hamlets|\n",
      "|            Hounslow|\n",
      "|              Barnet|\n",
      "|              Harrow|\n",
      "|Kensington and Ch...|\n",
      "|           Islington|\n",
      "|               Brent|\n",
      "|            Haringey|\n",
      "|             Bromley|\n",
      "|              Merton|\n",
      "|         Westminster|\n",
      "|             Hackney|\n",
      "+--------------------+\n",
      "only showing top 20 rows\n",
      "\n"
     ]
    }
   ],
   "source": [
    "totaleBorough = df.select('borough').distinct()\n",
    "totaleBorough.show()"
   ]
  },
  {
   "cell_type": "code",
   "execution_count": 102,
   "metadata": {},
   "outputs": [
    {
     "data": {
      "text/plain": [
       "33"
      ]
     },
     "execution_count": 102,
     "metadata": {},
     "output_type": "execute_result"
    }
   ],
   "source": [
    "totaleBorough.count()"
   ]
  },
  {
   "cell_type": "code",
   "execution_count": 103,
   "metadata": {},
   "outputs": [
    {
     "data": {
      "text/plain": [
       "417744"
      ]
     },
     "execution_count": 103,
     "metadata": {},
     "output_type": "execute_result"
    }
   ],
   "source": [
    "hackeneydata = df.filter(df['borough']=='Hackney')\n",
    "hackeneydata.count()"
   ]
  },
  {
   "cell_type": "code",
   "execution_count": 104,
   "metadata": {},
   "outputs": [
    {
     "data": {
      "text/plain": [
       "2997912"
      ]
     },
     "execution_count": 104,
     "metadata": {},
     "output_type": "execute_result"
    }
   ],
   "source": [
    "yearfilterdf = df.filter((df['year'] == '2016') | (df['year'] == '2015'))\n",
    "yearfilterdf.count()"
   ]
  },
  {
   "cell_type": "code",
   "execution_count": 105,
   "metadata": {},
   "outputs": [
    {
     "data": {
      "text/plain": [
       "2997912"
      ]
     },
     "execution_count": 105,
     "metadata": {},
     "output_type": "execute_result"
    }
   ],
   "source": [
    "#using isin operator\n",
    "yearIsInfilterdf=df.filter((df['year']).isin(['2015','2016']))\n",
    "yearIsInfilterdf.count()"
   ]
  },
  {
   "cell_type": "code",
   "execution_count": 106,
   "metadata": {},
   "outputs": [
    {
     "name": "stdout",
     "output_type": "stream",
     "text": [
      "+--------------------+--------------------+--------------------+-----+----+-----+\n",
      "|             borough|      major_category|      minor_category|value|year|month|\n",
      "+--------------------+--------------------+--------------------+-----+----+-----+\n",
      "|             Croydon|            Burglary|Burglary in Other...|    0|2016|   11|\n",
      "|           Greenwich|Violence Against ...|      Other violence|    0|2016|   11|\n",
      "|             Bromley|Violence Against ...|      Other violence|    0|2015|    5|\n",
      "|           Redbridge|            Burglary|Burglary in Other...|    0|2016|    3|\n",
      "|              Sutton|  Theft and Handling|Theft/Taking of P...|    1|2016|    8|\n",
      "|             Lambeth|Violence Against ...|      Other violence|    0|2015|    4|\n",
      "|Richmond upon Thames|             Robbery|   Personal Property|    0|2014|    1|\n",
      "|          Hillingdon|  Theft and Handling|Theft/Taking Of M...|    0|2016|    2|\n",
      "|Kingston upon Thames|  Theft and Handling|    Theft From Shops|    0|2016|   11|\n",
      "|            Haringey|Violence Against ...|        Wounding/GBH|    0|2015|   12|\n",
      "|            Lewisham|Violence Against ...|      Common Assault|    0|2016|    2|\n",
      "|            Hounslow|     Criminal Damage|Criminal Damage T...|    0|2015|    2|\n",
      "|             Bromley|     Criminal Damage|Criminal Damage T...|    1|2016|    4|\n",
      "|            Haringey|     Criminal Damage|Criminal Damage T...|    0|2016|   12|\n",
      "|           Southwark|               Drugs| Possession Of Drugs|    0|2015|    3|\n",
      "|            Havering|    Fraud or Forgery|  Counted per Victim|    0|2015|   11|\n",
      "|             Croydon|  Theft and Handling|         Other Theft|    1|2014|    5|\n",
      "|              Barnet|  Theft and Handling|Theft/Taking Of M...|    0|2014|    3|\n",
      "|      Waltham Forest|Other Notifiable ...|      Going Equipped|    0|2015|    2|\n",
      "|              Ealing|             Robbery|   Personal Property|    0|2015|    7|\n",
      "+--------------------+--------------------+--------------------+-----+----+-----+\n",
      "only showing top 20 rows\n",
      "\n"
     ]
    }
   ],
   "source": [
    "df.filter(df['year'] >= 2014).show()"
   ]
  },
  {
   "cell_type": "code",
   "execution_count": 107,
   "metadata": {},
   "outputs": [
    {
     "name": "stdout",
     "output_type": "stream",
     "text": [
      "+--------------------+------+\n",
      "|             borough| count|\n",
      "+--------------------+------+\n",
      "|             Croydon|602100|\n",
      "|          Wandsworth|498636|\n",
      "|              Bexley|385668|\n",
      "|             Lambeth|519048|\n",
      "|Barking and Dagenham|311040|\n",
      "|              Camden|378432|\n",
      "|           Greenwich|421200|\n",
      "|              Newham|471420|\n",
      "|       Tower Hamlets|412128|\n",
      "|            Hounslow|395928|\n",
      "|              Barnet|572832|\n",
      "|              Harrow|365688|\n",
      "|Kensington and Ch...|296784|\n",
      "|           Islington|359208|\n",
      "|               Brent|490644|\n",
      "|            Haringey|413856|\n",
      "|             Bromley|523908|\n",
      "|              Merton|339876|\n",
      "|         Westminster|366660|\n",
      "|             Hackney|417744|\n",
      "+--------------------+------+\n",
      "only showing top 20 rows\n",
      "\n"
     ]
    }
   ],
   "source": [
    "## performing aggregation on data\n",
    "#group all convictions by borough\n",
    "df.groupBy('borough').count().show()"
   ]
  },
  {
   "cell_type": "code",
   "execution_count": 108,
   "metadata": {},
   "outputs": [
    {
     "name": "stdout",
     "output_type": "stream",
     "text": [
      "+--------------------+----------+\n",
      "|             borough|conviction|\n",
      "+--------------------+----------+\n",
      "|             Croydon|  260294.0|\n",
      "|          Wandsworth|  204741.0|\n",
      "|              Bexley|  114136.0|\n",
      "|             Lambeth|  292178.0|\n",
      "|Barking and Dagenham|  149447.0|\n",
      "|              Camden|  275147.0|\n",
      "|           Greenwich|  181568.0|\n",
      "|              Newham|  262024.0|\n",
      "|       Tower Hamlets|  228613.0|\n",
      "|            Hounslow|  186772.0|\n",
      "|              Barnet|  212191.0|\n",
      "|              Harrow|  116848.0|\n",
      "|Kensington and Ch...|  171981.0|\n",
      "|           Islington|  230286.0|\n",
      "|               Brent|  227551.0|\n",
      "|            Haringey|  213272.0|\n",
      "|             Bromley|  184349.0|\n",
      "|              Merton|  115654.0|\n",
      "|         Westminster|  455028.0|\n",
      "|             Hackney|  217119.0|\n",
      "+--------------------+----------+\n",
      "only showing top 20 rows\n",
      "\n"
     ]
    }
   ],
   "source": [
    "boroughValueSum = df.groupBy('borough').agg({'value':'sum'})\n",
    "boroughValueSum = df.groupBy('borough').agg({'value':'sum'}).withColumnRenamed('sum(value)','conviction')\n",
    "boroughValueSum.show()"
   ]
  },
  {
   "cell_type": "code",
   "execution_count": 109,
   "metadata": {},
   "outputs": [],
   "source": [
    "totalconviction = boroughValueSum.agg({'conviction':'sum'})"
   ]
  },
  {
   "cell_type": "code",
   "execution_count": 110,
   "metadata": {},
   "outputs": [
    {
     "name": "stdout",
     "output_type": "stream",
     "text": [
      "+---------------+\n",
      "|sum(conviction)|\n",
      "+---------------+\n",
      "|      6447758.0|\n",
      "+---------------+\n",
      "\n"
     ]
    }
   ],
   "source": [
    "totalconviction.show()\n"
   ]
  },
  {
   "cell_type": "code",
   "execution_count": 111,
   "metadata": {},
   "outputs": [],
   "source": [
    "totalconcivtionno=totalconviction.collect()[0][0]"
   ]
  },
  {
   "cell_type": "code",
   "execution_count": 112,
   "metadata": {},
   "outputs": [
    {
     "data": {
      "text/plain": [
       "6447758.0"
      ]
     },
     "execution_count": 112,
     "metadata": {},
     "output_type": "execute_result"
    }
   ],
   "source": [
    "totalconcivtionno\n"
   ]
  },
  {
   "cell_type": "code",
   "execution_count": 117,
   "metadata": {},
   "outputs": [
    {
     "name": "stdout",
     "output_type": "stream",
     "text": [
      "+--------------------+----------+------------------+\n",
      "|             borough|conviction|           percent|\n",
      "+--------------------+----------+------------------+\n",
      "|         Westminster|  455028.0|7.0571507181255875|\n",
      "|             Lambeth|  292178.0| 4.531466596606138|\n",
      "|           Southwark|  278809.0| 4.324123206857329|\n",
      "|              Camden|  275147.0| 4.267328271315394|\n",
      "|              Newham|  262024.0| 4.063800161234339|\n",
      "|             Croydon|  260294.0| 4.036969129424523|\n",
      "|              Ealing|  251562.0|3.9015422104861877|\n",
      "|           Islington|  230286.0|3.5715670470262686|\n",
      "|       Tower Hamlets|  228613.0|3.5456200434321508|\n",
      "|               Brent|  227551.0| 3.529149201939651|\n",
      "|             Hackney|  217119.0|3.3673565291997622|\n",
      "|            Lewisham|  215137.0|3.3366171621205387|\n",
      "|            Haringey|  213272.0|  3.30769237927354|\n",
      "|              Barnet|  212191.0|  3.29092686170914|\n",
      "|          Hillingdon|  209680.0|3.2519830924175506|\n",
      "|          Wandsworth|  204741.0| 3.175382822990565|\n",
      "|      Waltham Forest|  203879.0| 3.162013834886483|\n",
      "|             Enfield|  193880.0|3.0069366747325197|\n",
      "|            Hounslow|  186772.0|2.8966968053081397|\n",
      "|Hammersmith and F...|  185259.0|2.8732312844247567|\n",
      "+--------------------+----------+------------------+\n",
      "only showing top 20 rows\n",
      "\n"
     ]
    }
   ],
   "source": [
    "#find % of conviction on per borough basis\n",
    "processeddf = boroughValueSum.withColumn('percent',(boroughValueSum.conviction/totalconcivtionno)*100)\n",
    "processeddf.orderBy(processeddf[2].desc()).show()\n"
   ]
  },
  {
   "cell_type": "code",
   "execution_count": 118,
   "metadata": {},
   "outputs": [
    {
     "data": {
      "text/plain": [
       "[Row(borough='Croydon', major_category='Burglary', minor_category='Burglary in Other Buildings', value='0', year='2016', month='11'),\n",
       " Row(borough='Greenwich', major_category='Violence Against the Person', minor_category='Other violence', value='0', year='2016', month='11'),\n",
       " Row(borough='Bromley', major_category='Violence Against the Person', minor_category='Other violence', value='0', year='2015', month='5'),\n",
       " Row(borough='Redbridge', major_category='Burglary', minor_category='Burglary in Other Buildings', value='0', year='2016', month='3'),\n",
       " Row(borough='Wandsworth', major_category='Robbery', minor_category='Personal Property', value='0', year='2008', month='6'),\n",
       " Row(borough='Ealing', major_category='Theft and Handling', minor_category='Other Theft', value='0', year='2012', month='5'),\n",
       " Row(borough='Ealing', major_category='Violence Against the Person', minor_category='Offensive Weapon', value='0', year='2010', month='7'),\n",
       " Row(borough='Hounslow', major_category='Robbery', minor_category='Personal Property', value='0', year='2013', month='4'),\n",
       " Row(borough='Newham', major_category='Criminal Damage', minor_category='Criminal Damage To Other Building', value='0', year='2013', month='9'),\n",
       " Row(borough='Sutton', major_category='Theft and Handling', minor_category='Theft/Taking of Pedal Cycle', value='1', year='2016', month='8')]"
      ]
     },
     "execution_count": 118,
     "metadata": {},
     "output_type": "execute_result"
    }
   ],
   "source": [
    "df.take(10)"
   ]
  },
  {
   "cell_type": "code",
   "execution_count": 122,
   "metadata": {},
   "outputs": [],
   "source": [
    "monthlyGroupeddf = df.filter(df['year'] == 2014).groupBy(df['month']).agg({'value':'sum'}).withColumnRenamed('sum(value)','total')"
   ]
  },
  {
   "cell_type": "code",
   "execution_count": 129,
   "metadata": {},
   "outputs": [],
   "source": [
    "totalcovictions = monthlyGroupeddf.agg({'total':'sum'}).collect()[0][0]"
   ]
  },
  {
   "cell_type": "code",
   "execution_count": 130,
   "metadata": {},
   "outputs": [
    {
     "data": {
      "text/plain": [
       "680183.0"
      ]
     },
     "execution_count": 130,
     "metadata": {},
     "output_type": "execute_result"
    }
   ],
   "source": [
    "totalcovictions\n"
   ]
  },
  {
   "cell_type": "code",
   "execution_count": 132,
   "metadata": {},
   "outputs": [
    {
     "name": "stdout",
     "output_type": "stream",
     "text": [
      "+-----+-------+-----------------+\n",
      "|month|  total|          percent|\n",
      "+-----+-------+-----------------+\n",
      "|    7|58564.0|8.610035828593187|\n",
      "|   11|59704.0|8.777637782773166|\n",
      "|    3|57669.0|  8.4784535926361|\n",
      "|    8|55641.0|  8.1802985373054|\n",
      "|    5|56327.0|8.281153748329494|\n",
      "|    6|57039.0|8.385831460062953|\n",
      "|    9|56933.0|8.370247418709377|\n",
      "|    1|55515.0|8.161774110790772|\n",
      "|   10|60537.0|8.900104824730992|\n",
      "|    4|53467.0|7.860678670299022|\n",
      "|   12|57565.0|8.463163589798627|\n",
      "|    2|51222.0|7.530620435970908|\n",
      "+-----+-------+-----------------+\n",
      "\n"
     ]
    }
   ],
   "source": [
    "monthlyGroupeddf.withColumn('percent',(monthlyGroupeddf.total/totalcovictions)*100).show()"
   ]
  },
  {
   "cell_type": "code",
   "execution_count": 137,
   "metadata": {},
   "outputs": [],
   "source": [
    "import pyspark.sql.functions as func"
   ]
  },
  {
   "cell_type": "code",
   "execution_count": 149,
   "metadata": {},
   "outputs": [
    {
     "name": "stdout",
     "output_type": "stream",
     "text": [
      "root\n",
      " |-- month: string (nullable = true)\n",
      " |-- total: double (nullable = true)\n",
      " |-- percent: double (nullable = true)\n",
      "\n",
      "+-----+-------+-------+\n",
      "|month|  total|percent|\n",
      "+-----+-------+-------+\n",
      "|    7|58564.0|   8.61|\n",
      "|   11|59704.0|   8.78|\n",
      "|    3|57669.0|   8.48|\n",
      "|    8|55641.0|   8.18|\n",
      "|    5|56327.0|   8.28|\n",
      "|    6|57039.0|   8.39|\n",
      "|    9|56933.0|   8.37|\n",
      "|    1|55515.0|   8.16|\n",
      "|   10|60537.0|    8.9|\n",
      "|    4|53467.0|   7.86|\n",
      "|   12|57565.0|   8.46|\n",
      "|    2|51222.0|   7.53|\n",
      "+-----+-------+-------+\n",
      "\n"
     ]
    }
   ],
   "source": [
    "updateddf = monthlyGroupeddf.withColumn('percent',func.round((monthlyGroupeddf.total/totalcovictions)*100,2))\n",
    "updateddf.printSchema()\n",
    "updateddf.show()"
   ]
  },
  {
   "cell_type": "code",
   "execution_count": 150,
   "metadata": {},
   "outputs": [
    {
     "name": "stdout",
     "output_type": "stream",
     "text": [
      "+--------------------+--------------------+--------------------+-----+----+-----+\n",
      "|             borough|      major_category|      minor_category|value|year|month|\n",
      "+--------------------+--------------------+--------------------+-----+----+-----+\n",
      "|             Croydon|            Burglary|Burglary in Other...|    0|2016|   11|\n",
      "|           Greenwich|Violence Against ...|      Other violence|    0|2016|   11|\n",
      "|             Bromley|Violence Against ...|      Other violence|    0|2015|    5|\n",
      "|           Redbridge|            Burglary|Burglary in Other...|    0|2016|    3|\n",
      "|          Wandsworth|             Robbery|   Personal Property|    0|2008|    6|\n",
      "|              Ealing|  Theft and Handling|         Other Theft|    0|2012|    5|\n",
      "|              Ealing|Violence Against ...|    Offensive Weapon|    0|2010|    7|\n",
      "|            Hounslow|             Robbery|   Personal Property|    0|2013|    4|\n",
      "|              Newham|     Criminal Damage|Criminal Damage T...|    0|2013|    9|\n",
      "|              Sutton|  Theft and Handling|Theft/Taking of P...|    1|2016|    8|\n",
      "|            Haringey|  Theft and Handling|Motor Vehicle Int...|    0|2013|   12|\n",
      "|             Lambeth|Violence Against ...|      Other violence|    0|2015|    4|\n",
      "|Richmond upon Thames|             Robbery|   Personal Property|    0|2014|    1|\n",
      "|          Wandsworth|Violence Against ...|    Offensive Weapon|    0|2011|   10|\n",
      "|          Hillingdon|  Theft and Handling|Theft/Taking Of M...|    0|2016|    2|\n",
      "|            Havering|Violence Against ...|        Wounding/GBH|    0|2012|    2|\n",
      "|Barking and Dagenham|  Theft and Handling|  Other Theft Person|    1|2009|    5|\n",
      "|           Redbridge|Violence Against ...|      Common Assault|    0|2009|    6|\n",
      "|Kingston upon Thames|  Theft and Handling|    Theft From Shops|    0|2016|   11|\n",
      "|              Sutton|               Drugs| Possession Of Drugs|    0|2009|   10|\n",
      "+--------------------+--------------------+--------------------+-----+----+-----+\n",
      "only showing top 20 rows\n",
      "\n"
     ]
    }
   ],
   "source": [
    "#other aggregations\n",
    "## convictions based on category in london\n",
    "df.show()"
   ]
  },
  {
   "cell_type": "code",
   "execution_count": 156,
   "metadata": {},
   "outputs": [
    {
     "name": "stdout",
     "output_type": "stream",
     "text": [
      "+--------------------+----------+\n",
      "|      major_category|totalValue|\n",
      "+--------------------+----------+\n",
      "|     Sexual Offences|    1273.0|\n",
      "|    Fraud or Forgery|    5325.0|\n",
      "|Other Notifiable ...|  106349.0|\n",
      "|             Robbery|  258873.0|\n",
      "|               Drugs|  470765.0|\n",
      "|     Criminal Damage|  630938.0|\n",
      "|            Burglary|  754293.0|\n",
      "|Violence Against ...| 1558081.0|\n",
      "|  Theft and Handling| 2661861.0|\n",
      "+--------------------+----------+\n",
      "\n"
     ]
    }
   ],
   "source": [
    "df.groupBy('major_category').agg({'value':'sum'}).withColumnRenamed('sum(value)','totalValue').orderBy('totalValue').show()"
   ]
  },
  {
   "cell_type": "code",
   "execution_count": 159,
   "metadata": {},
   "outputs": [
    {
     "name": "stdout",
     "output_type": "stream",
     "text": [
      "+---------+\n",
      "|min(year)|\n",
      "+---------+\n",
      "|     2008|\n",
      "+---------+\n",
      "\n",
      "+---------+\n",
      "|max(year)|\n",
      "+---------+\n",
      "|     2016|\n",
      "+---------+\n",
      "\n"
     ]
    }
   ],
   "source": [
    "#use of min and max aggregations\n",
    "df_year = df.select('year')\n",
    "df_year.agg({'year':'min'}).show()\n",
    "df_year.agg({'year':'max'}).show()"
   ]
  },
  {
   "cell_type": "code",
   "execution_count": 161,
   "metadata": {},
   "outputs": [
    {
     "name": "stdout",
     "output_type": "stream",
     "text": [
      "+-------+-----------------+\n",
      "|summary|             year|\n",
      "+-------+-----------------+\n",
      "|  count|         13490604|\n",
      "|   mean|           2012.0|\n",
      "| stddev|2.581988993167432|\n",
      "|    min|             2008|\n",
      "|    max|             2016|\n",
      "+-------+-----------------+\n",
      "\n"
     ]
    }
   ],
   "source": [
    "df_year.describe().show()"
   ]
  },
  {
   "cell_type": "code",
   "execution_count": 163,
   "metadata": {},
   "outputs": [
    {
     "name": "stdout",
     "output_type": "stream",
     "text": [
      "+----------------------+--------+---------------+-----+----------------+-------------------------+-------+---------------+------------------+---------------------------+\n",
      "|borough_major_category|Burglary|Criminal Damage|Drugs|Fraud or Forgery|Other Notifiable Offences|Robbery|Sexual Offences|Theft and Handling|Violence Against the Person|\n",
      "+----------------------+--------+---------------+-----+----------------+-------------------------+-------+---------------+------------------+---------------------------+\n",
      "|              Havering|   32400|          64152|32616|            5508|                    21060|  27648|           1944|            118800|                      95472|\n",
      "|                Merton|   26784|          52920|29160|            5724|                    19440|  23652|           2592|            101196|                      78408|\n",
      "|              Haringey|   31320|          62424|35424|           10368|                    23760|  29484|           3780|            120420|                      96876|\n",
      "|         Tower Hamlets|   31104|          62100|37368|            5400|                    25812|  28512|           4212|            121284|                      96336|\n",
      "|               Bromley|   42552|          84456|42336|            8532|                    28296|  34668|           2592|            156492|                     123984|\n",
      "|               Enfield|   39528|          77760|44064|            9720|                    29484|  35532|           3780|            150444|                     120852|\n",
      "|  Kingston upon Thames|   21168|          42120|22140|            3780|                    14580|  15660|           1836|             77328|                      60912|\n",
      "|           Westminster|   27648|          55188|32616|            8748|                    21924|  25056|           3672|            107136|                      84672|\n",
      "|  Richmond upon Thames|   24840|          49572|23004|            2808|                    17712|  18468|           2376|             93204|                      72144|\n",
      "|              Lewisham|   36504|          72684|43740|           11016|                    27324|  34884|           4752|            140400|                     113832|\n",
      "|                 Brent|   37368|          73440|46980|            9288|                    28728|  34128|           3564|            141156|                     115992|\n",
      "|  Barking and Dagenham|   23760|          46764|26244|            7236|                    17496|  22248|           2808|             91260|                      73224|\n",
      "|             Redbridge|   34776|          68796|36504|            8532|                    24840|  32400|           2808|            131760|                     105300|\n",
      "|             Islington|   26568|          53028|34128|            5184|                    23004|  26244|           4104|            103788|                      83160|\n",
      "|               Hackney|   31104|          61884|38772|            7560|                    27324|  29160|           4212|            120420|                      97308|\n",
      "|                Newham|   35424|          70416|41580|           10692|                    26136|  34452|           3888|            137592|                     111240|\n",
      "|        City of London|     540|           1188|  756|               0|                      432|    540|              0|              3564|                       2700|\n",
      "|                Sutton|   26136|          51408|26784|            3024|                    17712|  21060|           1836|             96768|                      77760|\n",
      "|             Southwark|   35856|          71496|45144|           11772|                    28620|  35316|           3996|            139320|                     111780|\n",
      "|                Harrow|   29592|          57996|31212|            4752|                    20196|  23976|           2592|            107892|                      87480|\n",
      "+----------------------+--------+---------------+-----+----------------+-------------------------+-------+---------------+------------------+---------------------------+\n",
      "only showing top 20 rows\n",
      "\n"
     ]
    }
   ],
   "source": [
    "df.crosstab('borough','major_category').show()"
   ]
  },
  {
   "cell_type": "code",
   "execution_count": 164,
   "metadata": {},
   "outputs": [
    {
     "name": "stdout",
     "output_type": "stream",
     "text": [
      "+----------------------+--------+----------------+-------+\n",
      "|borough_major_category|Burglary|Fraud or Forgery|Robbery|\n",
      "+----------------------+--------+----------------+-------+\n",
      "|              Havering|   32400|            5508|  27648|\n",
      "|                Merton|   26784|            5724|  23652|\n",
      "|              Haringey|   31320|           10368|  29484|\n",
      "|         Tower Hamlets|   31104|            5400|  28512|\n",
      "|               Bromley|   42552|            8532|  34668|\n",
      "|               Enfield|   39528|            9720|  35532|\n",
      "|  Kingston upon Thames|   21168|            3780|  15660|\n",
      "|           Westminster|   27648|            8748|  25056|\n",
      "|  Richmond upon Thames|   24840|            2808|  18468|\n",
      "|              Lewisham|   36504|           11016|  34884|\n",
      "|                 Brent|   37368|            9288|  34128|\n",
      "|  Barking and Dagenham|   23760|            7236|  22248|\n",
      "|             Redbridge|   34776|            8532|  32400|\n",
      "|             Islington|   26568|            5184|  26244|\n",
      "|               Hackney|   31104|            7560|  29160|\n",
      "|                Newham|   35424|           10692|  34452|\n",
      "|        City of London|     540|               0|    540|\n",
      "|                Sutton|   26136|            3024|  21060|\n",
      "|             Southwark|   35856|           11772|  35316|\n",
      "|                Harrow|   29592|            4752|  23976|\n",
      "+----------------------+--------+----------------+-------+\n",
      "only showing top 20 rows\n",
      "\n"
     ]
    }
   ],
   "source": [
    "df.crosstab('borough','major_category').select('borough_major_category','Burglary','Fraud or Forgery','Robbery').show()"
   ]
  },
  {
   "cell_type": "code",
   "execution_count": 166,
   "metadata": {},
   "outputs": [],
   "source": [
    "import matplotlib.pyplot as plt\n",
    "plt.style.use('ggplot')"
   ]
  },
  {
   "cell_type": "code",
   "execution_count": 179,
   "metadata": {},
   "outputs": [],
   "source": [
    "def describe_year(year):\n",
    "    filtereddf = df.filter(df['year'] == year).agg({'value':'sum'}).withColumnRenamed('sum(value)','convictions')\n",
    "    burough_list = [x[0] for x in filtereddf.toLocalIterator()]\n",
    "    conviction_list = [x[1] for x in filtereddf.toLocalIterator() ]\n",
    "   \n",
    "    plt.title('Crime for the year:'+year,frontsize=30)\n",
    "    plt.xlable('Boroughs',fontsize=30)\n",
    "    plt.ylable('Convictions',fontsize=30)\n",
    "\n",
    "    plt.xtics(rotation=90,frontsize=30)\n",
    "    plt.ytics(frontsize=30)\n",
    "    plt.autoscale()\n",
    "    \n",
    "    plt.figure(figsize=(33,10))\n",
    "    plt.bar(burough_list,conviction_list)\n",
    "    plt.xtic\n",
    "    plt.show()\n",
    "    \n",
    "     \n",
    "    \n"
   ]
  },
  {
   "cell_type": "code",
   "execution_count": 197,
   "metadata": {},
   "outputs": [],
   "source": [
    "def describe_year(year):\n",
    "    filtereddf = df.filter(df['year'] == year).groupBy('borough').agg({'value':'sum'}).withColumnRenamed('sum(value)','convictions')\n",
    "    burough_list = [x[0] for x in filtereddf.toLocalIterator()]\n",
    "    conviction_list = [x[1] for x in filtereddf.toLocalIterator() ]\n",
    "    \n",
    "    plt.title('Crime for the year:'+year,frontsize=30)\n",
    "    plt.xlable('Boroughs',fontsize=30)\n",
    "    plt.ylable('Convictions',fontsize=30)\n",
    "\n",
    "    plt.xtics(rotation=90,fontsize=30)\n",
    "    plt.ytics(frontsize=30)\n",
    "    plt.autoscale()\n",
    "    \n",
    "    plt.figure(figsize=(33,10))\n",
    "    plt.bar(burough_list,conviction_list)\n",
    "    plt.xtic\n",
    "    plt.show()\n",
    "   \n",
    "   "
   ]
  },
  {
   "cell_type": "code",
   "execution_count": 199,
   "metadata": {},
   "outputs": [
    {
     "name": "stdout",
     "output_type": "stream",
     "text": [
      "+--------------------+-----------+\n",
      "|             borough|convictions|\n",
      "+--------------------+-----------+\n",
      "|             Croydon|    27357.0|\n",
      "|          Wandsworth|    21364.0|\n",
      "|              Bexley|    11844.0|\n",
      "|             Lambeth|    31765.0|\n",
      "|Barking and Dagenham|    15426.0|\n",
      "|              Camden|    27198.0|\n",
      "|           Greenwich|    19894.0|\n",
      "|              Newham|    28005.0|\n",
      "|       Tower Hamlets|    25504.0|\n",
      "|              Barnet|    22572.0|\n",
      "|            Hounslow|    20005.0|\n",
      "|              Harrow|    11909.0|\n",
      "|Kensington and Ch...|    17840.0|\n",
      "|           Islington|    24679.0|\n",
      "|               Brent|    24426.0|\n",
      "|            Haringey|    22773.0|\n",
      "|             Bromley|    19668.0|\n",
      "|              Merton|    11596.0|\n",
      "|         Westminster|    47564.0|\n",
      "|           Southwark|    28912.0|\n",
      "+--------------------+-----------+\n",
      "only showing top 20 rows\n",
      "\n"
     ]
    },
    {
     "ename": "AttributeError",
     "evalue": "Unknown property frontsize",
     "output_type": "error",
     "traceback": [
      "\u001b[0;31m---------------------------------------------------------------------------\u001b[0m",
      "\u001b[0;31mAttributeError\u001b[0m                            Traceback (most recent call last)",
      "\u001b[0;32m<ipython-input-199-3a53392a93e6>\u001b[0m in \u001b[0;36m<module>\u001b[0;34m()\u001b[0m\n\u001b[0;32m----> 1\u001b[0;31m \u001b[0mdescribe_year\u001b[0m\u001b[0;34m(\u001b[0m\u001b[0;34m'2014'\u001b[0m\u001b[0;34m)\u001b[0m\u001b[0;34m\u001b[0m\u001b[0m\n\u001b[0m",
      "\u001b[0;32m<ipython-input-197-b7a52138aba1>\u001b[0m in \u001b[0;36mdescribe_year\u001b[0;34m(year)\u001b[0m\n\u001b[1;32m      5\u001b[0m     \u001b[0mconviction_list\u001b[0m \u001b[0;34m=\u001b[0m \u001b[0;34m[\u001b[0m\u001b[0mx\u001b[0m\u001b[0;34m[\u001b[0m\u001b[0;36m1\u001b[0m\u001b[0;34m]\u001b[0m \u001b[0;32mfor\u001b[0m \u001b[0mx\u001b[0m \u001b[0;32min\u001b[0m \u001b[0mfiltereddf\u001b[0m\u001b[0;34m.\u001b[0m\u001b[0mtoLocalIterator\u001b[0m\u001b[0;34m(\u001b[0m\u001b[0;34m)\u001b[0m \u001b[0;34m]\u001b[0m\u001b[0;34m\u001b[0m\u001b[0m\n\u001b[1;32m      6\u001b[0m \u001b[0;34m\u001b[0m\u001b[0m\n\u001b[0;32m----> 7\u001b[0;31m     \u001b[0mplt\u001b[0m\u001b[0;34m.\u001b[0m\u001b[0mtitle\u001b[0m\u001b[0;34m(\u001b[0m\u001b[0;34m'Crime for the year:'\u001b[0m\u001b[0;34m+\u001b[0m\u001b[0myear\u001b[0m\u001b[0;34m,\u001b[0m\u001b[0mfrontsize\u001b[0m\u001b[0;34m=\u001b[0m\u001b[0;36m30\u001b[0m\u001b[0;34m)\u001b[0m\u001b[0;34m\u001b[0m\u001b[0m\n\u001b[0m\u001b[1;32m      8\u001b[0m     \u001b[0mplt\u001b[0m\u001b[0;34m.\u001b[0m\u001b[0mxlable\u001b[0m\u001b[0;34m(\u001b[0m\u001b[0;34m'Boroughs'\u001b[0m\u001b[0;34m,\u001b[0m\u001b[0mfontsize\u001b[0m\u001b[0;34m=\u001b[0m\u001b[0;36m30\u001b[0m\u001b[0;34m)\u001b[0m\u001b[0;34m\u001b[0m\u001b[0m\n\u001b[1;32m      9\u001b[0m     \u001b[0mplt\u001b[0m\u001b[0;34m.\u001b[0m\u001b[0mylable\u001b[0m\u001b[0;34m(\u001b[0m\u001b[0;34m'Convictions'\u001b[0m\u001b[0;34m,\u001b[0m\u001b[0mfontsize\u001b[0m\u001b[0;34m=\u001b[0m\u001b[0;36m30\u001b[0m\u001b[0;34m)\u001b[0m\u001b[0;34m\u001b[0m\u001b[0m\n",
      "\u001b[0;32m/anaconda3/lib/python3.6/site-packages/matplotlib/pyplot.py\u001b[0m in \u001b[0;36mtitle\u001b[0;34m(s, *args, **kwargs)\u001b[0m\n\u001b[1;32m   1401\u001b[0m \u001b[0;34m\u001b[0m\u001b[0m\n\u001b[1;32m   1402\u001b[0m     \"\"\"\n\u001b[0;32m-> 1403\u001b[0;31m     \u001b[0;32mreturn\u001b[0m \u001b[0mgca\u001b[0m\u001b[0;34m(\u001b[0m\u001b[0;34m)\u001b[0m\u001b[0;34m.\u001b[0m\u001b[0mset_title\u001b[0m\u001b[0;34m(\u001b[0m\u001b[0ms\u001b[0m\u001b[0;34m,\u001b[0m \u001b[0;34m*\u001b[0m\u001b[0margs\u001b[0m\u001b[0;34m,\u001b[0m \u001b[0;34m**\u001b[0m\u001b[0mkwargs\u001b[0m\u001b[0;34m)\u001b[0m\u001b[0;34m\u001b[0m\u001b[0m\n\u001b[0m\u001b[1;32m   1404\u001b[0m \u001b[0;34m\u001b[0m\u001b[0m\n\u001b[1;32m   1405\u001b[0m \u001b[0;31m## Axis ##\u001b[0m\u001b[0;34m\u001b[0m\u001b[0;34m\u001b[0m\u001b[0m\n",
      "\u001b[0;32m/anaconda3/lib/python3.6/site-packages/matplotlib/axes/_axes.py\u001b[0m in \u001b[0;36mset_title\u001b[0;34m(self, label, fontdict, loc, **kwargs)\u001b[0m\n\u001b[1;32m    187\u001b[0m         \u001b[0;32mif\u001b[0m \u001b[0mfontdict\u001b[0m \u001b[0;32mis\u001b[0m \u001b[0;32mnot\u001b[0m \u001b[0;32mNone\u001b[0m\u001b[0;34m:\u001b[0m\u001b[0;34m\u001b[0m\u001b[0m\n\u001b[1;32m    188\u001b[0m             \u001b[0mtitle\u001b[0m\u001b[0;34m.\u001b[0m\u001b[0mupdate\u001b[0m\u001b[0;34m(\u001b[0m\u001b[0mfontdict\u001b[0m\u001b[0;34m)\u001b[0m\u001b[0;34m\u001b[0m\u001b[0m\n\u001b[0;32m--> 189\u001b[0;31m         \u001b[0mtitle\u001b[0m\u001b[0;34m.\u001b[0m\u001b[0mupdate\u001b[0m\u001b[0;34m(\u001b[0m\u001b[0mkwargs\u001b[0m\u001b[0;34m)\u001b[0m\u001b[0;34m\u001b[0m\u001b[0m\n\u001b[0m\u001b[1;32m    190\u001b[0m         \u001b[0;32mreturn\u001b[0m \u001b[0mtitle\u001b[0m\u001b[0;34m\u001b[0m\u001b[0m\n\u001b[1;32m    191\u001b[0m \u001b[0;34m\u001b[0m\u001b[0m\n",
      "\u001b[0;32m/anaconda3/lib/python3.6/site-packages/matplotlib/text.py\u001b[0m in \u001b[0;36mupdate\u001b[0;34m(self, kwargs)\u001b[0m\n\u001b[1;32m    190\u001b[0m         \u001b[0msentinel\u001b[0m \u001b[0;34m=\u001b[0m \u001b[0mobject\u001b[0m\u001b[0;34m(\u001b[0m\u001b[0;34m)\u001b[0m  \u001b[0;31m# bbox can be None, so use another sentinel.\u001b[0m\u001b[0;34m\u001b[0m\u001b[0m\n\u001b[1;32m    191\u001b[0m         \u001b[0mbbox\u001b[0m \u001b[0;34m=\u001b[0m \u001b[0mkwargs\u001b[0m\u001b[0;34m.\u001b[0m\u001b[0mpop\u001b[0m\u001b[0;34m(\u001b[0m\u001b[0;34m\"bbox\"\u001b[0m\u001b[0;34m,\u001b[0m \u001b[0msentinel\u001b[0m\u001b[0;34m)\u001b[0m\u001b[0;34m\u001b[0m\u001b[0m\n\u001b[0;32m--> 192\u001b[0;31m         \u001b[0msuper\u001b[0m\u001b[0;34m(\u001b[0m\u001b[0mText\u001b[0m\u001b[0;34m,\u001b[0m \u001b[0mself\u001b[0m\u001b[0;34m)\u001b[0m\u001b[0;34m.\u001b[0m\u001b[0mupdate\u001b[0m\u001b[0;34m(\u001b[0m\u001b[0mkwargs\u001b[0m\u001b[0;34m)\u001b[0m\u001b[0;34m\u001b[0m\u001b[0m\n\u001b[0m\u001b[1;32m    193\u001b[0m         \u001b[0;32mif\u001b[0m \u001b[0mbbox\u001b[0m \u001b[0;32mis\u001b[0m \u001b[0;32mnot\u001b[0m \u001b[0msentinel\u001b[0m\u001b[0;34m:\u001b[0m\u001b[0;34m\u001b[0m\u001b[0m\n\u001b[1;32m    194\u001b[0m             \u001b[0mself\u001b[0m\u001b[0;34m.\u001b[0m\u001b[0mset_bbox\u001b[0m\u001b[0;34m(\u001b[0m\u001b[0mbbox\u001b[0m\u001b[0;34m)\u001b[0m\u001b[0;34m\u001b[0m\u001b[0m\n",
      "\u001b[0;32m/anaconda3/lib/python3.6/site-packages/matplotlib/artist.py\u001b[0m in \u001b[0;36mupdate\u001b[0;34m(self, props)\u001b[0m\n\u001b[1;32m    900\u001b[0m         \u001b[0;32mtry\u001b[0m\u001b[0;34m:\u001b[0m\u001b[0;34m\u001b[0m\u001b[0m\n\u001b[1;32m    901\u001b[0m             ret = [_update_property(self, k, v)\n\u001b[0;32m--> 902\u001b[0;31m                    for k, v in props.items()]\n\u001b[0m\u001b[1;32m    903\u001b[0m         \u001b[0;32mfinally\u001b[0m\u001b[0;34m:\u001b[0m\u001b[0;34m\u001b[0m\u001b[0m\n\u001b[1;32m    904\u001b[0m             \u001b[0mself\u001b[0m\u001b[0;34m.\u001b[0m\u001b[0meventson\u001b[0m \u001b[0;34m=\u001b[0m \u001b[0mstore\u001b[0m\u001b[0;34m\u001b[0m\u001b[0m\n",
      "\u001b[0;32m/anaconda3/lib/python3.6/site-packages/matplotlib/artist.py\u001b[0m in \u001b[0;36m<listcomp>\u001b[0;34m(.0)\u001b[0m\n\u001b[1;32m    900\u001b[0m         \u001b[0;32mtry\u001b[0m\u001b[0;34m:\u001b[0m\u001b[0;34m\u001b[0m\u001b[0m\n\u001b[1;32m    901\u001b[0m             ret = [_update_property(self, k, v)\n\u001b[0;32m--> 902\u001b[0;31m                    for k, v in props.items()]\n\u001b[0m\u001b[1;32m    903\u001b[0m         \u001b[0;32mfinally\u001b[0m\u001b[0;34m:\u001b[0m\u001b[0;34m\u001b[0m\u001b[0m\n\u001b[1;32m    904\u001b[0m             \u001b[0mself\u001b[0m\u001b[0;34m.\u001b[0m\u001b[0meventson\u001b[0m \u001b[0;34m=\u001b[0m \u001b[0mstore\u001b[0m\u001b[0;34m\u001b[0m\u001b[0m\n",
      "\u001b[0;32m/anaconda3/lib/python3.6/site-packages/matplotlib/artist.py\u001b[0m in \u001b[0;36m_update_property\u001b[0;34m(self, k, v)\u001b[0m\n\u001b[1;32m    893\u001b[0m                 \u001b[0mfunc\u001b[0m \u001b[0;34m=\u001b[0m \u001b[0mgetattr\u001b[0m\u001b[0;34m(\u001b[0m\u001b[0mself\u001b[0m\u001b[0;34m,\u001b[0m \u001b[0;34m'set_'\u001b[0m \u001b[0;34m+\u001b[0m \u001b[0mk\u001b[0m\u001b[0;34m,\u001b[0m \u001b[0;32mNone\u001b[0m\u001b[0;34m)\u001b[0m\u001b[0;34m\u001b[0m\u001b[0m\n\u001b[1;32m    894\u001b[0m                 \u001b[0;32mif\u001b[0m \u001b[0;32mnot\u001b[0m \u001b[0mcallable\u001b[0m\u001b[0;34m(\u001b[0m\u001b[0mfunc\u001b[0m\u001b[0;34m)\u001b[0m\u001b[0;34m:\u001b[0m\u001b[0;34m\u001b[0m\u001b[0m\n\u001b[0;32m--> 895\u001b[0;31m                     \u001b[0;32mraise\u001b[0m \u001b[0mAttributeError\u001b[0m\u001b[0;34m(\u001b[0m\u001b[0;34m'Unknown property %s'\u001b[0m \u001b[0;34m%\u001b[0m \u001b[0mk\u001b[0m\u001b[0;34m)\u001b[0m\u001b[0;34m\u001b[0m\u001b[0m\n\u001b[0m\u001b[1;32m    896\u001b[0m                 \u001b[0;32mreturn\u001b[0m \u001b[0mfunc\u001b[0m\u001b[0;34m(\u001b[0m\u001b[0mv\u001b[0m\u001b[0;34m)\u001b[0m\u001b[0;34m\u001b[0m\u001b[0m\n\u001b[1;32m    897\u001b[0m \u001b[0;34m\u001b[0m\u001b[0m\n",
      "\u001b[0;31mAttributeError\u001b[0m: Unknown property frontsize"
     ]
    },
    {
     "data": {
      "image/png": "[encoded data removed]",
      "text/plain": [
       "<matplotlib.figure.Figure at 0x112d11a58>"
      ]
     },
     "metadata": {},
     "output_type": "display_data"
    }
   ],
   "source": [
    "describe_year('2014')"
   ]
  },
  {
   "cell_type": "code",
   "execution_count": null,
   "metadata": {},
   "outputs": [],
   "source": []
  },
  {
   "cell_type": "code",
   "execution_count": null,
   "metadata": {},
   "outputs": [],
   "source": []
  }
 ],
 "metadata": {
  "kernelspec": {
   "display_name": "Python 3",
   "language": "python",
   "name": "python3"
  },
  "language_info": {
   "codemirror_mode": {
    "name": "ipython",
    "version": 3
   },
   "file_extension": ".py",
   "mimetype": "text/x-python",
   "name": "python",
   "nbconvert_exporter": "python",
   "pygments_lexer": "ipython3",
   "version": "3.6.4"
  }
 },
 "nbformat": 4,
 "nbformat_minor": 2
}
