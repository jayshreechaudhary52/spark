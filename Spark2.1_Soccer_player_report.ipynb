{
 "cells": [
  {
   "cell_type": "code",
   "execution_count": 2,
   "metadata": {},
   "outputs": [],
   "source": [
    "from pyspark.sql import SparkSession\n",
    "spark = SparkSession.builder.appName(\"soccer_player\").getOrCreate()\n"
   ]
  },
  {
   "cell_type": "code",
   "execution_count": 6,
   "metadata": {},
   "outputs": [],
   "source": [
    "df = spark.read.format(\"csv\").option(\"inferSchema\", True).option(\"header\",True).load(\"player.csv\")"
   ]
  },
  {
   "cell_type": "code",
   "execution_count": 8,
   "metadata": {},
   "outputs": [
    {
     "name": "stdout",
     "output_type": "stream",
     "text": [
      "+---+-------------+--------------------+------------------+-------------------+------+------+\n",
      "| id|player_api_id|         player_name|player_fifa_api_id|           birthday|height|weight|\n",
      "+---+-------------+--------------------+------------------+-------------------+------+------+\n",
      "|  1|       505942|  Aaron Appindangoye|            218353|1992-02-29 00:00:00|182.88|   187|\n",
      "|  2|       155782|     Aaron Cresswell|            189615|1989-12-15 00:00:00|170.18|   146|\n",
      "|  3|       162549|         Aaron Doran|            186170|1991-05-13 00:00:00|170.18|   163|\n",
      "|  4|        30572|       Aaron Galindo|            140161|1982-05-08 00:00:00|182.88|   198|\n",
      "|  5|        23780|        Aaron Hughes|             17725|1979-11-08 00:00:00|182.88|   154|\n",
      "|  6|        27316|          Aaron Hunt|            158138|1986-09-04 00:00:00|182.88|   161|\n",
      "|  7|       564793|          Aaron Kuhl|            221280|1996-01-30 00:00:00|172.72|   146|\n",
      "|  8|        30895|        Aaron Lennon|            152747|1987-04-16 00:00:00| 165.1|   139|\n",
      "|  9|       528212|        Aaron Lennox|            206592|1993-02-19 00:00:00| 190.5|   181|\n",
      "| 10|       101042|       Aaron Meijers|            188621|1987-10-28 00:00:00|175.26|   170|\n",
      "| 11|        23889|       Aaron Mokoena|             47189|1980-11-25 00:00:00|182.88|   181|\n",
      "| 12|       231592|          Aaron Mooy|            194958|1990-09-15 00:00:00|175.26|   150|\n",
      "| 13|       163222|      Aaron Muirhead|            213568|1990-08-30 00:00:00|187.96|   168|\n",
      "| 14|        40719|        Aaron Niguez|            183853|1989-04-26 00:00:00|170.18|   143|\n",
      "| 15|        75489|        Aaron Ramsey|            186561|1990-12-26 00:00:00| 177.8|   154|\n",
      "| 16|       597948|       Aaron Splaine|            226014|1996-10-13 00:00:00|172.72|   163|\n",
      "| 17|       161644|Aaron Taylor-Sinc...|            213569|1991-04-08 00:00:00|182.88|   176|\n",
      "| 18|        23499|     Aaron Wilbraham|              2335|1979-10-21 00:00:00| 190.5|   159|\n",
      "| 19|       120919|   Aatif Chahechouhe|            187939|1986-07-02 00:00:00|175.26|   150|\n",
      "| 20|        46447|           Abasse Ba|            156626|1976-07-12 00:00:00|187.96|   185|\n",
      "+---+-------------+--------------------+------------------+-------------------+------+------+\n",
      "only showing top 20 rows\n",
      "\n",
      "root\n",
      " |-- id: integer (nullable = true)\n",
      " |-- player_api_id: integer (nullable = true)\n",
      " |-- player_name: string (nullable = true)\n",
      " |-- player_fifa_api_id: integer (nullable = true)\n",
      " |-- birthday: timestamp (nullable = true)\n",
      " |-- height: double (nullable = true)\n",
      " |-- weight: integer (nullable = true)\n",
      "\n"
     ]
    }
   ],
   "source": [
    "df.show()\n",
    "df.printSchema()"
   ]
  },
  {
   "cell_type": "code",
   "execution_count": 13,
   "metadata": {},
   "outputs": [],
   "source": [
    "player_attr_df = spark.read.format(\"csv\").option(\"header\",True).option(\"inferSchema\",True).load(\"player_attributes.csv\")"
   ]
  },
  {
   "cell_type": "code",
   "execution_count": 15,
   "metadata": {},
   "outputs": [
    {
     "name": "stdout",
     "output_type": "stream",
     "text": [
      "+---+------------------+-------------+-------------------+--------------+---------+--------------+-------------------+-------------------+--------+---------+----------------+-------------+-------+---------+-----+------------------+------------+------------+------------+------------+-------+---------+-------+----------+-------+-------+--------+----------+----------+-------------+-----------+------+---------+-------+---------------+--------------+---------+-----------+----------+--------------+-----------+\n",
      "| id|player_fifa_api_id|player_api_id|               date|overall_rating|potential|preferred_foot|attacking_work_rate|defensive_work_rate|crossing|finishing|heading_accuracy|short_passing|volleys|dribbling|curve|free_kick_accuracy|long_passing|ball_control|acceleration|sprint_speed|agility|reactions|balance|shot_power|jumping|stamina|strength|long_shots|aggression|interceptions|positioning|vision|penalties|marking|standing_tackle|sliding_tackle|gk_diving|gk_handling|gk_kicking|gk_positioning|gk_reflexes|\n",
      "+---+------------------+-------------+-------------------+--------------+---------+--------------+-------------------+-------------------+--------+---------+----------------+-------------+-------+---------+-----+------------------+------------+------------+------------+------------+-------+---------+-------+----------+-------+-------+--------+----------+----------+-------------+-----------+------+---------+-------+---------------+--------------+---------+-----------+----------+--------------+-----------+\n",
      "|  1|            218353|       505942|2016-02-18 00:00:00|            67|       71|         right|             medium|             medium|      49|       44|              71|           61|     44|       51|   45|                39|          64|          49|          60|          64|     59|       47|     65|        55|     58|     54|      76|        35|        71|           70|         45|    54|       48|     65|             69|            69|        6|         11|        10|             8|          8|\n",
      "|  2|            218353|       505942|2015-11-19 00:00:00|            67|       71|         right|             medium|             medium|      49|       44|              71|           61|     44|       51|   45|                39|          64|          49|          60|          64|     59|       47|     65|        55|     58|     54|      76|        35|        71|           70|         45|    54|       48|     65|             69|            69|        6|         11|        10|             8|          8|\n",
      "|  3|            218353|       505942|2015-09-21 00:00:00|            62|       66|         right|             medium|             medium|      49|       44|              71|           61|     44|       51|   45|                39|          64|          49|          60|          64|     59|       47|     65|        55|     58|     54|      76|        35|        63|           41|         45|    54|       48|     65|             66|            69|        6|         11|        10|             8|          8|\n",
      "|  4|            218353|       505942|2015-03-20 00:00:00|            61|       65|         right|             medium|             medium|      48|       43|              70|           60|     43|       50|   44|                38|          63|          48|          60|          64|     59|       46|     65|        54|     58|     54|      76|        34|        62|           40|         44|    53|       47|     62|             63|            66|        5|         10|         9|             7|          7|\n",
      "|  5|            218353|       505942|2007-02-22 00:00:00|            61|       65|         right|             medium|             medium|      48|       43|              70|           60|     43|       50|   44|                38|          63|          48|          60|          64|     59|       46|     65|        54|     58|     54|      76|        34|        62|           40|         44|    53|       47|     62|             63|            66|        5|         10|         9|             7|          7|\n",
      "+---+------------------+-------------+-------------------+--------------+---------+--------------+-------------------+-------------------+--------+---------+----------------+-------------+-------+---------+-----+------------------+------------+------------+------------+------------+-------+---------+-------+----------+-------+-------+--------+----------+----------+-------------+-----------+------+---------+-------+---------------+--------------+---------+-----------+----------+--------------+-----------+\n",
      "only showing top 5 rows\n",
      "\n",
      "root\n",
      " |-- id: integer (nullable = true)\n",
      " |-- player_fifa_api_id: integer (nullable = true)\n",
      " |-- player_api_id: integer (nullable = true)\n",
      " |-- date: timestamp (nullable = true)\n",
      " |-- overall_rating: integer (nullable = true)\n",
      " |-- potential: integer (nullable = true)\n",
      " |-- preferred_foot: string (nullable = true)\n",
      " |-- attacking_work_rate: string (nullable = true)\n",
      " |-- defensive_work_rate: string (nullable = true)\n",
      " |-- crossing: integer (nullable = true)\n",
      " |-- finishing: integer (nullable = true)\n",
      " |-- heading_accuracy: integer (nullable = true)\n",
      " |-- short_passing: integer (nullable = true)\n",
      " |-- volleys: integer (nullable = true)\n",
      " |-- dribbling: integer (nullable = true)\n",
      " |-- curve: integer (nullable = true)\n",
      " |-- free_kick_accuracy: integer (nullable = true)\n",
      " |-- long_passing: integer (nullable = true)\n",
      " |-- ball_control: integer (nullable = true)\n",
      " |-- acceleration: integer (nullable = true)\n",
      " |-- sprint_speed: integer (nullable = true)\n",
      " |-- agility: integer (nullable = true)\n",
      " |-- reactions: integer (nullable = true)\n",
      " |-- balance: integer (nullable = true)\n",
      " |-- shot_power: integer (nullable = true)\n",
      " |-- jumping: integer (nullable = true)\n",
      " |-- stamina: integer (nullable = true)\n",
      " |-- strength: integer (nullable = true)\n",
      " |-- long_shots: integer (nullable = true)\n",
      " |-- aggression: integer (nullable = true)\n",
      " |-- interceptions: integer (nullable = true)\n",
      " |-- positioning: integer (nullable = true)\n",
      " |-- vision: integer (nullable = true)\n",
      " |-- penalties: integer (nullable = true)\n",
      " |-- marking: integer (nullable = true)\n",
      " |-- standing_tackle: integer (nullable = true)\n",
      " |-- sliding_tackle: integer (nullable = true)\n",
      " |-- gk_diving: integer (nullable = true)\n",
      " |-- gk_handling: integer (nullable = true)\n",
      " |-- gk_kicking: integer (nullable = true)\n",
      " |-- gk_positioning: integer (nullable = true)\n",
      " |-- gk_reflexes: integer (nullable = true)\n",
      "\n"
     ]
    }
   ],
   "source": [
    "player_attr_df.show(5)\n",
    "player_attr_df.printSchema()"
   ]
  },
  {
   "cell_type": "code",
   "execution_count": 17,
   "metadata": {},
   "outputs": [
    {
     "data": {
      "text/plain": [
       "183978"
      ]
     },
     "execution_count": 17,
     "metadata": {},
     "output_type": "execute_result"
    }
   ],
   "source": [
    "player_attr_df.count()"
   ]
  },
  {
   "cell_type": "code",
   "execution_count": 18,
   "metadata": {},
   "outputs": [
    {
     "data": {
      "text/plain": [
       "11060"
      ]
     },
     "execution_count": 18,
     "metadata": {},
     "output_type": "execute_result"
    }
   ],
   "source": [
    "df.count()"
   ]
  },
  {
   "cell_type": "code",
   "execution_count": 47,
   "metadata": {},
   "outputs": [],
   "source": [
    "df = df.drop('id','player_fifa_api_id')"
   ]
  },
  {
   "cell_type": "code",
   "execution_count": 48,
   "metadata": {},
   "outputs": [],
   "source": [
    "player_attr_df = player_attr_df.drop('id','player_fifa_api_id','preferred_foot','attacking_work_rate','defensive_work_rate','crossing','jumping','sprint_speed','balance','aggression','short_passing','potential')"
   ]
  },
  {
   "cell_type": "code",
   "execution_count": 49,
   "metadata": {},
   "outputs": [
    {
     "data": {
      "text/plain": [
       "DataFrame[player_api_id: int, player_name: string, birthday: timestamp, height: double, weight: int]"
      ]
     },
     "execution_count": 49,
     "metadata": {},
     "output_type": "execute_result"
    }
   ],
   "source": [
    "df.dropna()"
   ]
  },
  {
   "cell_type": "code",
   "execution_count": 50,
   "metadata": {},
   "outputs": [
    {
     "data": {
      "text/plain": [
       "DataFrame[player_api_id: int, overall_rating: int, finishing: int, heading_accuracy: int, volleys: int, dribbling: int, curve: int, free_kick_accuracy: int, long_passing: int, ball_control: int, acceleration: int, agility: int, reactions: int, shot_power: int, stamina: int, strength: int, long_shots: int, interceptions: int, positioning: int, vision: int, penalties: int, marking: int, standing_tackle: int, sliding_tackle: int, gk_diving: int, gk_handling: int, gk_kicking: int, gk_positioning: int, gk_reflexes: int, year: string]"
      ]
     },
     "execution_count": 50,
     "metadata": {},
     "output_type": "execute_result"
    }
   ],
   "source": [
    "player_attr_df.dropna()"
   ]
  },
  {
   "cell_type": "code",
   "execution_count": 51,
   "metadata": {},
   "outputs": [],
   "source": [
    "from pyspark.sql.functions import udf\n",
    "year_extract_udf = udf(lambda date : date.year)\n"
   ]
  },
  {
   "cell_type": "code",
   "execution_count": 52,
   "metadata": {},
   "outputs": [
    {
     "ename": "AttributeError",
     "evalue": "'DataFrame' object has no attribute 'date'",
     "output_type": "error",
     "traceback": [
      "\u001b[0;31m---------------------------------------------------------------------------\u001b[0m",
      "\u001b[0;31mAttributeError\u001b[0m                            Traceback (most recent call last)",
      "\u001b[0;32m<ipython-input-52-3879a5fe8d9d>\u001b[0m in \u001b[0;36m<module>\u001b[0;34m()\u001b[0m\n\u001b[0;32m----> 1\u001b[0;31m \u001b[0mplayer_attr_df\u001b[0m \u001b[0;34m=\u001b[0m \u001b[0mplayer_attr_df\u001b[0m\u001b[0;34m.\u001b[0m\u001b[0mwithColumn\u001b[0m\u001b[0;34m(\u001b[0m\u001b[0;34m'year'\u001b[0m\u001b[0;34m,\u001b[0m\u001b[0myear_extract_udf\u001b[0m\u001b[0;34m(\u001b[0m\u001b[0mplayer_attr_df\u001b[0m\u001b[0;34m.\u001b[0m\u001b[0mdate\u001b[0m\u001b[0;34m)\u001b[0m\u001b[0;34m)\u001b[0m\u001b[0;34m\u001b[0m\u001b[0m\n\u001b[0m",
      "\u001b[0;32m~/Documents/tools/J&J/spark-2.2.1-bin-hadoop2.7/python/pyspark/sql/dataframe.py\u001b[0m in \u001b[0;36m__getattr__\u001b[0;34m(self, name)\u001b[0m\n\u001b[1;32m   1018\u001b[0m         \u001b[0;32mif\u001b[0m \u001b[0mname\u001b[0m \u001b[0;32mnot\u001b[0m \u001b[0;32min\u001b[0m \u001b[0mself\u001b[0m\u001b[0;34m.\u001b[0m\u001b[0mcolumns\u001b[0m\u001b[0;34m:\u001b[0m\u001b[0;34m\u001b[0m\u001b[0m\n\u001b[1;32m   1019\u001b[0m             raise AttributeError(\n\u001b[0;32m-> 1020\u001b[0;31m                 \"'%s' object has no attribute '%s'\" % (self.__class__.__name__, name))\n\u001b[0m\u001b[1;32m   1021\u001b[0m         \u001b[0mjc\u001b[0m \u001b[0;34m=\u001b[0m \u001b[0mself\u001b[0m\u001b[0;34m.\u001b[0m\u001b[0m_jdf\u001b[0m\u001b[0;34m.\u001b[0m\u001b[0mapply\u001b[0m\u001b[0;34m(\u001b[0m\u001b[0mname\u001b[0m\u001b[0;34m)\u001b[0m\u001b[0;34m\u001b[0m\u001b[0m\n\u001b[1;32m   1022\u001b[0m         \u001b[0;32mreturn\u001b[0m \u001b[0mColumn\u001b[0m\u001b[0;34m(\u001b[0m\u001b[0mjc\u001b[0m\u001b[0;34m)\u001b[0m\u001b[0;34m\u001b[0m\u001b[0m\n",
      "\u001b[0;31mAttributeError\u001b[0m: 'DataFrame' object has no attribute 'date'"
     ]
    }
   ],
   "source": [
    "player_attr_df = player_attr_df.withColumn('year',year_extract_udf(player_attr_df.date))"
   ]
  },
  {
   "cell_type": "code",
   "execution_count": 53,
   "metadata": {},
   "outputs": [
    {
     "name": "stdout",
     "output_type": "stream",
     "text": [
      "+-------------+--------------+---------+----------------+-------+---------+-----+------------------+------------+------------+------------+-------+---------+----------+-------+--------+----------+-------------+-----------+------+---------+-------+---------------+--------------+---------+-----------+----------+--------------+-----------+----+\n",
      "|player_api_id|overall_rating|finishing|heading_accuracy|volleys|dribbling|curve|free_kick_accuracy|long_passing|ball_control|acceleration|agility|reactions|shot_power|stamina|strength|long_shots|interceptions|positioning|vision|penalties|marking|standing_tackle|sliding_tackle|gk_diving|gk_handling|gk_kicking|gk_positioning|gk_reflexes|year|\n",
      "+-------------+--------------+---------+----------------+-------+---------+-----+------------------+------------+------------+------------+-------+---------+----------+-------+--------+----------+-------------+-----------+------+---------+-------+---------------+--------------+---------+-----------+----------+--------------+-----------+----+\n",
      "|       505942|            67|       44|              71|     44|       51|   45|                39|          64|          49|          60|     59|       47|        55|     54|      76|        35|           70|         45|    54|       48|     65|             69|            69|        6|         11|        10|             8|          8|2016|\n",
      "|       505942|            67|       44|              71|     44|       51|   45|                39|          64|          49|          60|     59|       47|        55|     54|      76|        35|           70|         45|    54|       48|     65|             69|            69|        6|         11|        10|             8|          8|2015|\n",
      "+-------------+--------------+---------+----------------+-------+---------+-----+------------------+------------+------------+------------+-------+---------+----------+-------+--------+----------+-------------+-----------+------+---------+-------+---------------+--------------+---------+-----------+----------+--------------+-----------+----+\n",
      "only showing top 2 rows\n",
      "\n"
     ]
    }
   ],
   "source": [
    "player_attr_df.show(2)"
   ]
  },
  {
   "cell_type": "code",
   "execution_count": 54,
   "metadata": {},
   "outputs": [],
   "source": [
    "player_attr_df = player_attr_df.drop('date')"
   ]
  },
  {
   "cell_type": "code",
   "execution_count": 55,
   "metadata": {},
   "outputs": [
    {
     "data": {
      "text/plain": [
       "['player_api_id',\n",
       " 'overall_rating',\n",
       " 'finishing',\n",
       " 'heading_accuracy',\n",
       " 'volleys',\n",
       " 'dribbling',\n",
       " 'curve',\n",
       " 'free_kick_accuracy',\n",
       " 'long_passing',\n",
       " 'ball_control',\n",
       " 'acceleration',\n",
       " 'agility',\n",
       " 'reactions',\n",
       " 'shot_power',\n",
       " 'stamina',\n",
       " 'strength',\n",
       " 'long_shots',\n",
       " 'interceptions',\n",
       " 'positioning',\n",
       " 'vision',\n",
       " 'penalties',\n",
       " 'marking',\n",
       " 'standing_tackle',\n",
       " 'sliding_tackle',\n",
       " 'gk_diving',\n",
       " 'gk_handling',\n",
       " 'gk_kicking',\n",
       " 'gk_positioning',\n",
       " 'gk_reflexes',\n",
       " 'year']"
      ]
     },
     "execution_count": 55,
     "metadata": {},
     "output_type": "execute_result"
    }
   ],
   "source": [
    "player_attr_df.columns"
   ]
  },
  {
   "cell_type": "code",
   "execution_count": 56,
   "metadata": {},
   "outputs": [],
   "source": [
    "## find best strikers based on some of the attributes\n",
    "## then join with player df to get names of the players\n",
    "## how to find best striker :- from recent data 2016 year {finishing : avg, shot_power : avg, acceleration : avg}\n",
    "## weitage for considering each attribute for best striker is weight_finish=1,weight_shot_power=2,weight_acceleration=1\n",
    "## total weight = sum of all weights"
   ]
  },
  {
   "cell_type": "code",
   "execution_count": 57,
   "metadata": {},
   "outputs": [],
   "source": [
    "filtered_plyr_attr = player_attr_df.filter(player_attr_df['year'] == 2016)"
   ]
  },
  {
   "cell_type": "code",
   "execution_count": 58,
   "metadata": {},
   "outputs": [
    {
     "data": {
      "text/plain": [
       "14103"
      ]
     },
     "execution_count": 58,
     "metadata": {},
     "output_type": "execute_result"
    }
   ],
   "source": [
    "filtered_plyr_attr.count()"
   ]
  },
  {
   "cell_type": "code",
   "execution_count": 59,
   "metadata": {},
   "outputs": [
    {
     "data": {
      "text/plain": [
       "183978"
      ]
     },
     "execution_count": 59,
     "metadata": {},
     "output_type": "execute_result"
    }
   ],
   "source": [
    "player_attr_df.count()"
   ]
  },
  {
   "cell_type": "code",
   "execution_count": 60,
   "metadata": {},
   "outputs": [
    {
     "data": {
      "text/plain": [
       "5586"
      ]
     },
     "execution_count": 60,
     "metadata": {},
     "output_type": "execute_result"
    }
   ],
   "source": [
    "#get distinct players count\n",
    "filtered_plyr_attr.select('player_api_id').distinct().count()"
   ]
  },
  {
   "cell_type": "code",
   "execution_count": 61,
   "metadata": {},
   "outputs": [],
   "source": [
    "#group each player attr and find avg of each selecting attribute\n",
    "filtered_plyr_attr = filtered_plyr_attr.groupBy('player_api_id').agg({'finishing':'avg','shot_power':'avg','acceleration':'avg'})"
   ]
  },
  {
   "cell_type": "code",
   "execution_count": 70,
   "metadata": {},
   "outputs": [],
   "source": [
    "filtered_plyr_attr.count()\n",
    "filtered_plyr_attr = filtered_plyr_attr.withColumnRenamed('avg(finishing)','finishing').withColumnRenamed('avg(shot_power)','shot_power').withColumnRenamed('avg(acceleration)','acceleration')"
   ]
  },
  {
   "cell_type": "code",
   "execution_count": 72,
   "metadata": {},
   "outputs": [
    {
     "name": "stdout",
     "output_type": "stream",
     "text": [
      "root\n",
      " |-- player_api_id: integer (nullable = true)\n",
      " |-- finishing: double (nullable = true)\n",
      " |-- acceleration: double (nullable = true)\n",
      " |-- shot_power: double (nullable = true)\n",
      "\n"
     ]
    }
   ],
   "source": [
    "## finding score for each player\n",
    "weight_finish=1\n",
    "weight_shot_power=2\n",
    "weight_acceleration=1\n",
    "total_weight = weight_finish+weight_shot_power+weight_acceleration\n",
    "filtered_plyr_attr.printSchema()"
   ]
  },
  {
   "cell_type": "code",
   "execution_count": 75,
   "metadata": {},
   "outputs": [],
   "source": [
    "filtered_plyr_attr = filtered_plyr_attr.withColumn('score',(filtered_plyr_attr['finishing']*weight_finish + filtered_plyr_attr['acceleration']*weight_acceleration+filtered_plyr_attr['shot_power']*weight_shot_power)/total_weight)"
   ]
  },
  {
   "cell_type": "code",
   "execution_count": 76,
   "metadata": {},
   "outputs": [
    {
     "name": "stdout",
     "output_type": "stream",
     "text": [
      "+-------------+---------+------------+----------+-----+\n",
      "|player_api_id|finishing|acceleration|shot_power|score|\n",
      "+-------------+---------+------------+----------+-----+\n",
      "|       114503|     78.0|        77.0|      75.0|76.25|\n",
      "|       171094|     39.0|        65.0|      36.0| 44.0|\n",
      "+-------------+---------+------------+----------+-----+\n",
      "only showing top 2 rows\n",
      "\n"
     ]
    }
   ],
   "source": [
    "filtered_plyr_attr.show(2)"
   ]
  },
  {
   "cell_type": "code",
   "execution_count": 87,
   "metadata": {},
   "outputs": [],
   "source": [
    "striker_details = filtered_plyr_attr.drop('finishing','acceleration','shot_power')"
   ]
  },
  {
   "cell_type": "code",
   "execution_count": 88,
   "metadata": {},
   "outputs": [
    {
     "name": "stdout",
     "output_type": "stream",
     "text": [
      "+-------------+-----+-------------+-------------------+------+------+\n",
      "|player_api_id|score|  player_name|           birthday|height|weight|\n",
      "+-------------+-----+-------------+-------------------+------+------+\n",
      "|        20276|89.25|         Hulk|1986-07-25 00:00:00|180.34|   187|\n",
      "|        37412| 89.0|Sergio Aguero|1988-06-02 00:00:00|172.72|   163|\n",
      "+-------------+-----+-------------+-------------------+------+------+\n",
      "only showing top 2 rows\n",
      "\n"
     ]
    }
   ],
   "source": [
    "striker_details.show(2)"
   ]
  },
  {
   "cell_type": "code",
   "execution_count": 89,
   "metadata": {},
   "outputs": [],
   "source": [
    "striker_details = striker_details.filter(filtered_plyr_attr['score'] > 70)"
   ]
  },
  {
   "cell_type": "code",
   "execution_count": 90,
   "metadata": {},
   "outputs": [],
   "source": [
    "best_strikers = striker_details.join(df,['player_api_id']).sort(striker_details['score'].desc())"
   ]
  },
  {
   "cell_type": "code",
   "execution_count": 91,
   "metadata": {},
   "outputs": [
    {
     "name": "stdout",
     "output_type": "stream",
     "text": [
      "+-------------+-----+-------------+-------------------+------+------+-------------+-------------------+------+------+\n",
      "|player_api_id|score|  player_name|           birthday|height|weight|  player_name|           birthday|height|weight|\n",
      "+-------------+-----+-------------+-------------------+------+------+-------------+-------------------+------+------+\n",
      "|        20276|89.25|         Hulk|1986-07-25 00:00:00|180.34|   187|         Hulk|1986-07-25 00:00:00|180.34|   187|\n",
      "|        37412| 89.0|Sergio Aguero|1988-06-02 00:00:00|172.72|   163|Sergio Aguero|1988-06-02 00:00:00|172.72|   163|\n",
      "+-------------+-----+-------------+-------------------+------+------+-------------+-------------------+------+------+\n",
      "only showing top 2 rows\n",
      "\n"
     ]
    }
   ],
   "source": [
    "best_strikers.show(2)\n"
   ]
  },
  {
   "cell_type": "code",
   "execution_count": 97,
   "metadata": {},
   "outputs": [],
   "source": [
    "# performing join by broadcasting dataframes.\n",
    "from pyspark.sql.functions import broadcast\n",
    "best_strikers_1 = df.select(['player_api_id','player_name']).join(broadcast(striker_details),['player_api_id'],'inner')"
   ]
  },
  {
   "cell_type": "code",
   "execution_count": 100,
   "metadata": {},
   "outputs": [
    {
     "name": "stdout",
     "output_type": "stream",
     "text": [
      "+-------------+-------------+-----+-------------+-------------------+------+------+\n",
      "|player_api_id|  player_name|score|  player_name|           birthday|height|weight|\n",
      "+-------------+-------------+-----+-------------+-------------------+------+------+\n",
      "|        20276|         Hulk|89.25|         Hulk|1986-07-25 00:00:00|180.34|   187|\n",
      "|        37412|Sergio Aguero| 89.0|Sergio Aguero|1988-06-02 00:00:00|172.72|   163|\n",
      "+-------------+-------------+-----+-------------+-------------------+------+------+\n",
      "only showing top 2 rows\n",
      "\n"
     ]
    }
   ],
   "source": [
    "best_strikers_1.sort(striker_details.score.desc()).show(2)"
   ]
  },
  {
   "cell_type": "code",
   "execution_count": 102,
   "metadata": {},
   "outputs": [
    {
     "data": {
      "text/plain": [
       "(183978, 11060)"
      ]
     },
     "execution_count": 102,
     "metadata": {},
     "output_type": "execute_result"
    }
   ],
   "source": [
    "# check if height of player results in better heading accuracy\n",
    "player_attr_df.count(), df.count()"
   ]
  },
  {
   "cell_type": "code",
   "execution_count": 103,
   "metadata": {},
   "outputs": [],
   "source": [
    "# join to get height and heading_accuracy\n",
    "player_heading_acc = player_attr_df.select('player_api_id','heading_accuracy').join(broadcast(df),['player_api_id'],'inner')"
   ]
  },
  {
   "cell_type": "code",
   "execution_count": 120,
   "metadata": {},
   "outputs": [
    {
     "name": "stdout",
     "output_type": "stream",
     "text": [
      "root\n",
      " |-- player_api_id: integer (nullable = true)\n",
      " |-- heading_accuracy: integer (nullable = true)\n",
      " |-- player_name: string (nullable = true)\n",
      " |-- birthday: timestamp (nullable = true)\n",
      " |-- height: double (nullable = true)\n",
      " |-- weight: integer (nullable = true)\n",
      "\n"
     ]
    }
   ],
   "source": [
    "player_heading_acc.printSchema()\n",
    "player_heading_acc.count()\n",
    "\n",
    "player_heading_acc = player_heading_acc.dropna()"
   ]
  },
  {
   "cell_type": "code",
   "execution_count": 121,
   "metadata": {},
   "outputs": [],
   "source": [
    "# categorize each player into different height bucket\n",
    "short_count = spark.sparkContext.accumulator(0)\n",
    "medium_short_count = spark.sparkContext.accumulator(0)\n",
    "medium_high_count = spark.sparkContext.accumulator(0)\n",
    "tall_count = spark.sparkContext.accumulator(0)\n",
    "\n",
    "# accumulator for heading accuracy count ha\n",
    "short_ha_count = spark.sparkContext.accumulator(0)\n",
    "medium_short_ha_count = spark.sparkContext.accumulator(0)\n",
    "medium_high_ha_count = spark.sparkContext.accumulator(0)\n",
    "tall_ha_count = spark.sparkContext.accumulator(0)"
   ]
  },
  {
   "cell_type": "code",
   "execution_count": 122,
   "metadata": {},
   "outputs": [],
   "source": [
    "def categorize (row, threashold_score):\n",
    "    height = float(row.height)\n",
    "    ha = float(row.heading_accuracy)\n",
    "    \n",
    "    if(height <= 175 ):\n",
    "        short_count.add(1)\n",
    "        if(ha > threashold_score):\n",
    "            short_ha_count.add(1)\n",
    "            \n",
    "    if(height <= 183 and height > 175 ):\n",
    "        medium_short_count.add(1)\n",
    "        if(ha > threashold_score):\n",
    "            medium_short_ha_count.add(1)\n",
    "            \n",
    "    if(height <= 195 and height > 183):\n",
    "        medium_high_count.add(1)\n",
    "        if(ha > threashold_score):\n",
    "            medium_high_ha_count.add(1)\n",
    "            \n",
    "    if(height > 195 ):\n",
    "        tall_count.add(1)\n",
    "        if(ha > threashold_score):\n",
    "            tall_ha_count.add(1)\n"
   ]
  },
  {
   "cell_type": "code",
   "execution_count": 123,
   "metadata": {},
   "outputs": [],
   "source": [
    "player_heading_acc.foreach(lambda x : categorize(x,60))"
   ]
  },
  {
   "cell_type": "code",
   "execution_count": 125,
   "metadata": {},
   "outputs": [],
   "source": [
    "total_acc = [short_count,medium_short_count,medium_high_count,tall_count]"
   ]
  },
  {
   "cell_type": "code",
   "execution_count": 126,
   "metadata": {},
   "outputs": [
    {
     "data": {
      "text/plain": [
       "[Accumulator<id=12, value=19128>,\n",
       " Accumulator<id=13, value=98541>,\n",
       " Accumulator<id=14, value=62081>,\n",
       " Accumulator<id=15, value=3392>]"
      ]
     },
     "execution_count": 126,
     "metadata": {},
     "output_type": "execute_result"
    }
   ],
   "source": [
    "total_acc"
   ]
  },
  {
   "cell_type": "code",
   "execution_count": 127,
   "metadata": {},
   "outputs": [],
   "source": [
    "total_acc_ha = [short_ha_count,medium_short_ha_count,medium_high_ha_count,tall_ha_count]"
   ]
  },
  {
   "cell_type": "code",
   "execution_count": 128,
   "metadata": {},
   "outputs": [
    {
     "data": {
      "text/plain": [
       "[Accumulator<id=16, value=3694>,\n",
       " Accumulator<id=17, value=42023>,\n",
       " Accumulator<id=18, value=40634>,\n",
       " Accumulator<id=19, value=1578>]"
      ]
     },
     "execution_count": 128,
     "metadata": {},
     "output_type": "execute_result"
    }
   ],
   "source": [
    "total_acc_ha"
   ]
  },
  {
   "cell_type": "code",
   "execution_count": 136,
   "metadata": {},
   "outputs": [
    {
     "name": "stdout",
     "output_type": "stream",
     "text": [
      "root\n",
      " |-- player_api_id: integer (nullable = true)\n",
      " |-- heading_accuracy: integer (nullable = true)\n",
      " |-- player_name: string (nullable = true)\n",
      " |-- birthday: timestamp (nullable = true)\n",
      " |-- height: double (nullable = true)\n",
      " |-- weight: integer (nullable = true)\n",
      "\n"
     ]
    }
   ],
   "source": [
    "# find the percent of accuracy\n",
    "player_heading_acc.printSchema()\n",
    "percent_with_value = [(short_ha_count.value/short_count.value)*100 , (medium_short_ha_count.value/medium_short_count.value)*100, (medium_high_ha_count.value/medium_high_count.value)*100,(tall_ha_count.value/tall_count.value)*100 ]"
   ]
  },
  {
   "cell_type": "code",
   "execution_count": 137,
   "metadata": {},
   "outputs": [
    {
     "data": {
      "text/plain": [
       "[19.312003345880385, 42.64519337128708, 65.45319824100771, 46.52122641509434]"
      ]
     },
     "execution_count": 137,
     "metadata": {},
     "output_type": "execute_result"
    }
   ],
   "source": [
    "percent_with_value"
   ]
  },
  {
   "cell_type": "code",
   "execution_count": 138,
   "metadata": {},
   "outputs": [],
   "source": [
    "# saving data as csv or json\n",
    "plyr_2016 = player_attr_df.filter(player_attr_df['year'] == 2016)\n"
   ]
  },
  {
   "cell_type": "code",
   "execution_count": 145,
   "metadata": {},
   "outputs": [],
   "source": [
    "plyr_2016.select('player_api_id','overall_rating').coalesce(1).write.option('header',True).csv('player_2016.csv')"
   ]
  },
  {
   "cell_type": "code",
   "execution_count": 146,
   "metadata": {},
   "outputs": [],
   "source": [
    "plyr_2016.select('player_api_id','overall_rating').write.option('header',True).json('player_2016.json')"
   ]
  },
  {
   "cell_type": "code",
   "execution_count": 150,
   "metadata": {},
   "outputs": [],
   "source": [
    "## sql query on data spark\n",
    "from pyspark.sql.types import Row\n",
    "from datetime import datetime\n",
    "\n",
    "record = sc.parallelize([Row(id=1,\n",
    "                            name =\"jill\",\n",
    "                            active= True,\n",
    "                            clubs=['hockey','chess'],\n",
    "                            subjects={'math':80,'english':56},\n",
    "                            enrolled=datetime(2014,8,1,14,1,5)),\n",
    "                        Row(id=2,\n",
    "                            name=\"George\",\n",
    "                            active= False,\n",
    "                            clubs=['soccer','chess'],\n",
    "                            subjects={'math':60,'english':96},\n",
    "                            enrolled=datetime(2015,3,21,8,2,5))])"
   ]
  },
  {
   "cell_type": "code",
   "execution_count": 151,
   "metadata": {},
   "outputs": [],
   "source": [
    "record_df = record.toDF()"
   ]
  },
  {
   "cell_type": "code",
   "execution_count": 152,
   "metadata": {},
   "outputs": [
    {
     "name": "stdout",
     "output_type": "stream",
     "text": [
      "root\n",
      " |-- active: boolean (nullable = true)\n",
      " |-- clubs: array (nullable = true)\n",
      " |    |-- element: string (containsNull = true)\n",
      " |-- enrolled: timestamp (nullable = true)\n",
      " |-- id: long (nullable = true)\n",
      " |-- name: string (nullable = true)\n",
      " |-- subjects: map (nullable = true)\n",
      " |    |-- key: string\n",
      " |    |-- value: long (valueContainsNull = true)\n",
      "\n"
     ]
    }
   ],
   "source": [
    "record_df.printSchema()"
   ]
  },
  {
   "cell_type": "code",
   "execution_count": 153,
   "metadata": {},
   "outputs": [
    {
     "name": "stdout",
     "output_type": "stream",
     "text": [
      "+------+---------------+-------------------+---+------+--------------------+\n",
      "|active|          clubs|           enrolled| id|  name|            subjects|\n",
      "+------+---------------+-------------------+---+------+--------------------+\n",
      "|  true|[hockey, chess]|2014-08-01 14:01:05|  1|  jill|Map(english -> 56...|\n",
      "| false|[soccer, chess]|2015-03-21 08:02:05|  2|George|Map(english -> 96...|\n",
      "+------+---------------+-------------------+---+------+--------------------+\n",
      "\n"
     ]
    }
   ],
   "source": [
    "record_df.show()"
   ]
  },
  {
   "cell_type": "code",
   "execution_count": 154,
   "metadata": {},
   "outputs": [],
   "source": [
    "record_df.createOrReplaceTempView('records')"
   ]
  },
  {
   "cell_type": "code",
   "execution_count": 155,
   "metadata": {},
   "outputs": [],
   "source": [
    "all_records_df = sqlContext.sql('select * from records')"
   ]
  },
  {
   "cell_type": "code",
   "execution_count": 156,
   "metadata": {},
   "outputs": [
    {
     "name": "stdout",
     "output_type": "stream",
     "text": [
      "+------+---------------+-------------------+---+------+--------------------+\n",
      "|active|          clubs|           enrolled| id|  name|            subjects|\n",
      "+------+---------------+-------------------+---+------+--------------------+\n",
      "|  true|[hockey, chess]|2014-08-01 14:01:05|  1|  jill|Map(english -> 56...|\n",
      "| false|[soccer, chess]|2015-03-21 08:02:05|  2|George|Map(english -> 96...|\n",
      "+------+---------------+-------------------+---+------+--------------------+\n",
      "\n"
     ]
    }
   ],
   "source": [
    "all_records_df.show()"
   ]
  },
  {
   "cell_type": "code",
   "execution_count": 158,
   "metadata": {},
   "outputs": [
    {
     "name": "stdout",
     "output_type": "stream",
     "text": [
      "+---+--------+-----------------+\n",
      "| id|clubs[1]|subjects[english]|\n",
      "+---+--------+-----------------+\n",
      "|  1|   chess|               56|\n",
      "|  2|   chess|               96|\n",
      "+---+--------+-----------------+\n",
      "\n"
     ]
    }
   ],
   "source": [
    "sqlContext.sql(\"select id, clubs[1],subjects['english'] from records\").show()"
   ]
  },
  {
   "cell_type": "code",
   "execution_count": 159,
   "metadata": {},
   "outputs": [
    {
     "name": "stdout",
     "output_type": "stream",
     "text": [
      "+------+---------------+-------------------+---+----+--------------------+\n",
      "|active|          clubs|           enrolled| id|name|            subjects|\n",
      "+------+---------------+-------------------+---+----+--------------------+\n",
      "|  true|[hockey, chess]|2014-08-01 14:01:05|  1|jill|Map(english -> 56...|\n",
      "+------+---------------+-------------------+---+----+--------------------+\n",
      "\n"
     ]
    }
   ],
   "source": [
    "sqlContext.sql(\"select * from records where active = True\").show()"
   ]
  },
  {
   "cell_type": "code",
   "execution_count": 160,
   "metadata": {},
   "outputs": [
    {
     "name": "stdout",
     "output_type": "stream",
     "text": [
      "+---+------------+\n",
      "| id|(NOT active)|\n",
      "+---+------------+\n",
      "|  1|       false|\n",
      "|  2|        true|\n",
      "+---+------------+\n",
      "\n"
     ]
    }
   ],
   "source": [
    "sqlContext.sql(\"select id, NOT active from records\").show()"
   ]
  },
  {
   "cell_type": "code",
   "execution_count": 161,
   "metadata": {},
   "outputs": [],
   "source": [
    "# to access a table on all spark sessions in this cluster, register table as global table\n",
    "record_df.createGlobalTempView('global_records')"
   ]
  },
  {
   "cell_type": "code",
   "execution_count": 164,
   "metadata": {},
   "outputs": [
    {
     "name": "stdout",
     "output_type": "stream",
     "text": [
      "+------+---------------+-------------------+---+------+--------------------+\n",
      "|active|          clubs|           enrolled| id|  name|            subjects|\n",
      "+------+---------------+-------------------+---+------+--------------------+\n",
      "|  true|[hockey, chess]|2014-08-01 14:01:05|  1|  jill|Map(english -> 56...|\n",
      "| false|[soccer, chess]|2015-03-21 08:02:05|  2|George|Map(english -> 96...|\n",
      "+------+---------------+-------------------+---+------+--------------------+\n",
      "\n"
     ]
    }
   ],
   "source": [
    "sqlContext.sql(\"select * from global_temp.global_records\").show()"
   ]
  },
  {
   "cell_type": "code",
   "execution_count": 169,
   "metadata": {},
   "outputs": [],
   "source": [
    "# processing airline data with sql\n",
    "airline = spark.read.format('csv').option('header',True).option('inferSchema',True).load('airlines.csv')\n",
    "flights = spark.read.format('csv').option('header',True).option('inferSchema',True).load('flights.csv')"
   ]
  },
  {
   "cell_type": "code",
   "execution_count": 170,
   "metadata": {},
   "outputs": [],
   "source": [
    "airline.createOrReplaceTempView('airlines')\n",
    "flights.createOrReplaceTempView('flights')"
   ]
  },
  {
   "cell_type": "code",
   "execution_count": 173,
   "metadata": {},
   "outputs": [
    {
     "name": "stdout",
     "output_type": "stream",
     "text": [
      "+-----+--------------------+\n",
      "| Code|         Description|\n",
      "+-----+--------------------+\n",
      "|19031|Mackey Internatio...|\n",
      "|19032|Munz Northern Air...|\n",
      "|19033|Cochise Airlines ...|\n",
      "|19034|Golden Gate Airli...|\n",
      "|19035|  Aeromech Inc.: RZZ|\n",
      "|19036|Golden West Airli...|\n",
      "|19037|Puerto Rico Intl ...|\n",
      "|19038|Air America Inc.:...|\n",
      "|19039|Swift Aire Lines ...|\n",
      "|19040|American Central ...|\n",
      "|19041|Valdez Airlines: VEZ|\n",
      "|19042|Southeast Alaska ...|\n",
      "|19043|Altair Airlines I...|\n",
      "|19044|Chitina Air Servi...|\n",
      "|19045|Marco Island Airw...|\n",
      "|19046|Caribbean Air Ser...|\n",
      "|19047|Sundance Airlines...|\n",
      "|19048|Seair Alaska Airl...|\n",
      "|19049|Southeast Airline...|\n",
      "|19050|Alaska Aeronautic...|\n",
      "+-----+--------------------+\n",
      "only showing top 20 rows\n",
      "\n"
     ]
    }
   ],
   "source": [
    "sqlContext.sql(\"select * from airlines\").show()"
   ]
  },
  {
   "cell_type": "code",
   "execution_count": 174,
   "metadata": {},
   "outputs": [
    {
     "data": {
      "text/plain": [
       "(476881, 1579)"
      ]
     },
     "execution_count": 174,
     "metadata": {},
     "output_type": "execute_result"
    }
   ],
   "source": [
    "flights.count(),airline.count()"
   ]
  },
  {
   "cell_type": "code",
   "execution_count": 175,
   "metadata": {},
   "outputs": [
    {
     "name": "stdout",
     "output_type": "stream",
     "text": [
      "+--------+\n",
      "|count(1)|\n",
      "+--------+\n",
      "|    1579|\n",
      "+--------+\n",
      "\n"
     ]
    }
   ],
   "source": [
    "sqlContext.sql(\"select count(*) from airlines\").show()"
   ]
  },
  {
   "cell_type": "code",
   "execution_count": 181,
   "metadata": {},
   "outputs": [
    {
     "name": "stdout",
     "output_type": "stream",
     "text": [
      "+------------+\n",
      "|       total|\n",
      "+------------+\n",
      "|3.79052917E8|\n",
      "+------------+\n",
      "\n"
     ]
    }
   ],
   "source": [
    "spark.sql(\"select distance from flights\").agg({'distance':'sum'}).withColumnRenamed('sum(distance)', 'total').show()"
   ]
  },
  {
   "cell_type": "code",
   "execution_count": 183,
   "metadata": {},
   "outputs": [
    {
     "name": "stdout",
     "output_type": "stream",
     "text": [
      "+----+--------+-------------+\n",
      "|date|airlines|flight_number|\n",
      "+----+--------+-------------+\n",
      "+----+--------+-------------+\n",
      "\n"
     ]
    }
   ],
   "source": [
    "# get all delayed flight in 2012\n",
    "spark.sql(\"select date, airlines, flight_number from flights where departure_delay > 0 and year(date) = 2012\").show()"
   ]
  },
  {
   "cell_type": "code",
   "execution_count": 185,
   "metadata": {},
   "outputs": [
    {
     "name": "stdout",
     "output_type": "stream",
     "text": [
      "+-------------------+--------+-------------+-------------------+\n",
      "|               date|airlines|flight_number|               date|\n",
      "+-------------------+--------+-------------+-------------------+\n",
      "|2014-04-01 00:00:00|   19805|            2|2014-04-01 00:00:00|\n",
      "|2014-04-01 00:00:00|   19805|            4|2014-04-01 00:00:00|\n",
      "|2014-04-01 00:00:00|   19805|            6|2014-04-01 00:00:00|\n",
      "|2014-04-01 00:00:00|   19805|            7|2014-04-01 00:00:00|\n",
      "|2014-04-01 00:00:00|   19805|            8|2014-04-01 00:00:00|\n",
      "|2014-04-01 00:00:00|   19805|           10|2014-04-01 00:00:00|\n",
      "|2014-04-01 00:00:00|   19805|           14|2014-04-01 00:00:00|\n",
      "|2014-04-01 00:00:00|   19805|           16|2014-04-01 00:00:00|\n",
      "|2014-04-01 00:00:00|   19805|           18|2014-04-01 00:00:00|\n",
      "|2014-04-01 00:00:00|   19805|           20|2014-04-01 00:00:00|\n",
      "|2014-04-01 00:00:00|   19805|           24|2014-04-01 00:00:00|\n",
      "|2014-04-01 00:00:00|   19805|           27|2014-04-01 00:00:00|\n",
      "|2014-04-01 00:00:00|   19805|           30|2014-04-01 00:00:00|\n",
      "|2014-04-01 00:00:00|   19805|           32|2014-04-01 00:00:00|\n",
      "|2014-04-01 00:00:00|   19805|           33|2014-04-01 00:00:00|\n",
      "|2014-04-01 00:00:00|   19805|           34|2014-04-01 00:00:00|\n",
      "|2014-04-01 00:00:00|   19805|          130|2014-04-01 00:00:00|\n",
      "|2014-04-01 00:00:00|   19805|          131|2014-04-01 00:00:00|\n",
      "|2014-04-01 00:00:00|   19805|          139|2014-04-01 00:00:00|\n",
      "|2014-04-01 00:00:00|   19805|          148|2014-04-01 00:00:00|\n",
      "+-------------------+--------+-------------+-------------------+\n",
      "only showing top 20 rows\n",
      "\n"
     ]
    }
   ],
   "source": [
    "# get all delayed flight in 2014\n",
    "spark.sql(\"select date, airlines, flight_number, date from flights where departure_delay > 0 and year(date) = 2014\").show()"
   ]
  },
  {
   "cell_type": "code",
   "execution_count": 186,
   "metadata": {},
   "outputs": [],
   "source": [
    "#inferred and explicit schema\n",
    "lines = sc.textFile('students.txt')\n",
    "lines = lines.map(lambda x : x.split(','))"
   ]
  },
  {
   "cell_type": "code",
   "execution_count": 187,
   "metadata": {},
   "outputs": [
    {
     "data": {
      "text/plain": [
       "PythonRDD[516] at RDD at PythonRDD.scala:48"
      ]
     },
     "execution_count": 187,
     "metadata": {},
     "output_type": "execute_result"
    }
   ],
   "source": [
    "lines"
   ]
  },
  {
   "cell_type": "code",
   "execution_count": 188,
   "metadata": {},
   "outputs": [
    {
     "data": {
      "text/plain": [
       "[['Emily', '44', '55', '78'],\n",
       " ['Andy', '47', '34', '89'],\n",
       " ['Rick', '55', '78', '55'],\n",
       " ['Aaron', '66', '34', '98']]"
      ]
     },
     "execution_count": 188,
     "metadata": {},
     "output_type": "execute_result"
    }
   ],
   "source": [
    "lines.collect()"
   ]
  },
  {
   "cell_type": "code",
   "execution_count": 199,
   "metadata": {},
   "outputs": [],
   "source": [
    "rdd = lines.map(lambda x : Row(name=x[0],math=int(x[1]),science=int(x[2]),english=int(x[3])))"
   ]
  },
  {
   "cell_type": "code",
   "execution_count": 200,
   "metadata": {},
   "outputs": [
    {
     "data": {
      "text/plain": [
       "PythonRDD[535] at RDD at PythonRDD.scala:48"
      ]
     },
     "execution_count": 200,
     "metadata": {},
     "output_type": "execute_result"
    }
   ],
   "source": [
    "rdd"
   ]
  },
  {
   "cell_type": "code",
   "execution_count": 201,
   "metadata": {},
   "outputs": [
    {
     "data": {
      "text/plain": [
       "[Row(english=78, math=44, name='Emily', science=55),\n",
       " Row(english=89, math=47, name='Andy', science=34),\n",
       " Row(english=55, math=55, name='Rick', science=78),\n",
       " Row(english=98, math=66, name='Aaron', science=34)]"
      ]
     },
     "execution_count": 201,
     "metadata": {},
     "output_type": "execute_result"
    }
   ],
   "source": [
    "rdd.collect()"
   ]
  },
  {
   "cell_type": "code",
   "execution_count": 202,
   "metadata": {},
   "outputs": [],
   "source": [
    "# converting rdd to DF\n",
    "df = rdd.toDF()"
   ]
  },
  {
   "cell_type": "code",
   "execution_count": 203,
   "metadata": {},
   "outputs": [
    {
     "name": "stdout",
     "output_type": "stream",
     "text": [
      "root\n",
      " |-- english: long (nullable = true)\n",
      " |-- math: long (nullable = true)\n",
      " |-- name: string (nullable = true)\n",
      " |-- science: long (nullable = true)\n",
      "\n"
     ]
    }
   ],
   "source": [
    "df.printSchema()"
   ]
  },
  {
   "cell_type": "code",
   "execution_count": 204,
   "metadata": {},
   "outputs": [],
   "source": [
    "dfUsingSpark = spark.createDataFrame(rdd)"
   ]
  },
  {
   "cell_type": "code",
   "execution_count": 205,
   "metadata": {},
   "outputs": [
    {
     "name": "stdout",
     "output_type": "stream",
     "text": [
      "root\n",
      " |-- english: long (nullable = true)\n",
      " |-- math: long (nullable = true)\n",
      " |-- name: string (nullable = true)\n",
      " |-- science: long (nullable = true)\n",
      "\n"
     ]
    }
   ],
   "source": [
    "dfUsingSpark.printSchema()"
   ]
  },
  {
   "cell_type": "code",
   "execution_count": 206,
   "metadata": {},
   "outputs": [
    {
     "data": {
      "text/plain": [
       "['english', 'math', 'name', 'science']"
      ]
     },
     "execution_count": 206,
     "metadata": {},
     "output_type": "execute_result"
    }
   ],
   "source": [
    "dfUsingSpark.columns\n"
   ]
  },
  {
   "cell_type": "code",
   "execution_count": 207,
   "metadata": {},
   "outputs": [
    {
     "data": {
      "text/plain": [
       "StructType(List(StructField(english,LongType,true),StructField(math,LongType,true),StructField(name,StringType,true),StructField(science,LongType,true)))"
      ]
     },
     "execution_count": 207,
     "metadata": {},
     "output_type": "execute_result"
    }
   ],
   "source": [
    "dfUsingSpark.schema"
   ]
  },
  {
   "cell_type": "code",
   "execution_count": 208,
   "metadata": {},
   "outputs": [
    {
     "data": {
      "text/plain": [
       "StructType(List(StructField(english,LongType,true),StructField(math,LongType,true),StructField(name,StringType,true),StructField(science,LongType,true)))"
      ]
     },
     "execution_count": 208,
     "metadata": {},
     "output_type": "execute_result"
    }
   ],
   "source": [
    "df.schema"
   ]
  },
  {
   "cell_type": "code",
   "execution_count": 212,
   "metadata": {},
   "outputs": [],
   "source": [
    "from pyspark.sql.types import StructType, StructField, StringType, LongType"
   ]
  },
  {
   "cell_type": "code",
   "execution_count": 213,
   "metadata": {},
   "outputs": [],
   "source": [
    "fields = [StructField(\"name\",StringType(),True),\n",
    "          StructField('math',LongType(),True), \n",
    "          StructField('english',LongType(),True),\n",
    "          StructField('science',LongType(),True)]"
   ]
  },
  {
   "cell_type": "code",
   "execution_count": 215,
   "metadata": {},
   "outputs": [],
   "source": [
    "schema = StructType(fields)"
   ]
  },
  {
   "cell_type": "raw",
   "metadata": {},
   "source": []
  },
  {
   "cell_type": "code",
   "execution_count": 216,
   "metadata": {},
   "outputs": [
    {
     "data": {
      "text/plain": [
       "[Row(english=78, math=44, name='Emily', science=55),\n",
       " Row(english=89, math=47, name='Andy', science=34),\n",
       " Row(english=55, math=55, name='Rick', science=78),\n",
       " Row(english=98, math=66, name='Aaron', science=34)]"
      ]
     },
     "execution_count": 216,
     "metadata": {},
     "output_type": "execute_result"
    }
   ],
   "source": [
    "rdd.collect()"
   ]
  },
  {
   "cell_type": "code",
   "execution_count": 219,
   "metadata": {},
   "outputs": [],
   "source": [
    "withSchema = rdd.toDF(schema)"
   ]
  },
  {
   "cell_type": "code",
   "execution_count": 221,
   "metadata": {},
   "outputs": [
    {
     "name": "stdout",
     "output_type": "stream",
     "text": [
      "root\n",
      " |-- name: string (nullable = true)\n",
      " |-- math: long (nullable = true)\n",
      " |-- english: long (nullable = true)\n",
      " |-- science: long (nullable = true)\n",
      "\n"
     ]
    }
   ],
   "source": [
    "withSchema.printSchema()"
   ]
  },
  {
   "cell_type": "code",
   "execution_count": 223,
   "metadata": {},
   "outputs": [
    {
     "name": "stdout",
     "output_type": "stream",
     "text": [
      "+-----+----+-------+-------+\n",
      "| name|math|english|science|\n",
      "+-----+----+-------+-------+\n",
      "|Emily|  44|     78|     55|\n",
      "| Andy|  47|     89|     34|\n",
      "| Rick|  55|     55|     78|\n",
      "|Aaron|  66|     98|     34|\n",
      "+-----+----+-------+-------+\n",
      "\n"
     ]
    }
   ],
   "source": [
    "spark.createDataFrame(rdd,schema).show()"
   ]
  },
  {
   "cell_type": "code",
   "execution_count": null,
   "metadata": {},
   "outputs": [],
   "source": []
  }
 ],
 "metadata": {
  "kernelspec": {
   "display_name": "Python 3",
   "language": "python",
   "name": "python3"
  },
  "language_info": {
   "codemirror_mode": {
    "name": "ipython",
    "version": 3
   },
   "file_extension": ".py",
   "mimetype": "text/x-python",
   "name": "python",
   "nbconvert_exporter": "python",
   "pygments_lexer": "ipython3",
   "version": "3.6.4"
  }
 },
 "nbformat": 4,
 "nbformat_minor": 2
}
